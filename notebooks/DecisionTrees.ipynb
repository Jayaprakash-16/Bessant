{
 "cells": [
  {
   "cell_type": "markdown",
   "metadata": {
    "colab_type": "text",
    "id": "Z3uCFUsZpIAZ"
   },
   "source": [
    "# Decision Trees\n"
   ]
  },
  {
   "cell_type": "markdown",
   "metadata": {
    "colab_type": "text",
    "id": "VgT84JAOIHwF"
   },
   "source": [
    "## Introduction\n",
    "\n",
    "http://users.sussex.ac.uk/~christ/crs/ml/lec04b.html"
   ]
  },
  {
   "cell_type": "markdown",
   "metadata": {
    "colab_type": "text",
    "id": "-vUpBQbDIJvt"
   },
   "source": [
    "### Decision trees"
   ]
  },
  {
   "cell_type": "markdown",
   "metadata": {
    "colab_type": "text",
    "id": "4hKac_xMf0vI"
   },
   "source": [
    "* Supervised learning algorithm - training dataset with known labels\n",
    "\n",
    "* Eager learning - final model does not need training data to make prediction (all parameters are evaluated during learning step)\n",
    "\n",
    "* It can do both classification and regression\n",
    "\n",
    "* A decision tree is built from:\n",
    "\n",
    "    * **decision nodes** - correspond to features (attributes)\n",
    "    * **leaf nodes** - correspond to class labels\n",
    "    \n",
    "* The **root** of a tree is (should be) the best predictor (feature)\n"
   ]
  },
  {
   "cell_type": "markdown",
   "metadata": {
    "colab_type": "text",
    "id": "SUngtS3VtmCn"
   },
   "source": [
    "### Example"
   ]
  },
  {
   "cell_type": "code",
   "execution_count": 31,
   "metadata": {
    "colab": {
     "autoexec": {
      "startup": false,
      "wait_interval": 0
     }
    },
    "colab_type": "code",
    "collapsed": true,
    "id": "oR_Vqj-atnQ_"
   },
   "outputs": [],
   "source": [
    "import matplotlib.pyplot as plt\n",
    "import numpy as np\n",
    "%matplotlib inline\n",
    "# just to overwrite default colab style\n",
    "plt.style.use('default')\n",
    "plt.style.use('seaborn-talk')"
   ]
  },
  {
   "cell_type": "markdown",
   "metadata": {
    "colab_type": "text",
    "id": "WdrPX4hZ6skt"
   },
   "source": [
    "* It is important to start with good predictor\n",
    "\n",
    "    * Our choice of the root classifies 37.5% of points  in the first step\n",
    "    \n",
    "    * Note, that we could also start with `x > 9?`\n",
    "    \n",
    "    * However, if we started with `y > 3` we would never classify a point in the first step - does it mean that it is worse choice?"
   ]
  },
  {
   "cell_type": "markdown",
   "metadata": {
    "colab_type": "text",
    "id": "ROLGJ70_w0Z6"
   },
   "source": [
    "* In this case we never have to make more than 2 checks\n",
    "\n",
    "* There are two open questions to answer:\n",
    "\n",
    "    * How to automate the procees of chosing nodes?\n",
    "    \n",
    "    * How deep should we go?"
   ]
  },
  {
   "cell_type": "markdown",
   "metadata": {
    "colab_type": "text",
    "id": "3lOhLeHCTzH7"
   },
   "source": [
    "## ID3 and C4.5 algorithms"
   ]
  },
  {
   "cell_type": "markdown",
   "metadata": {
    "colab_type": "text",
    "id": "kEFeDMEIT07B"
   },
   "source": [
    "* We start with algorithms based on information theory\n",
    "\n",
    "    * ID3 (Iterative Dichotomiser 3)\n",
    "    \n",
    "    * C4.5 - extension of ID3 (why C4.5? C stands for programming language and 4.5 for version?)\n",
    "    \n",
    "    * C5.0/See5 - improved C4.5 (commercial; single-threaded Linux version is available under GPL though)\n",
    "    \n",
    "* The idea is to find nodes which maximize information gain"
   ]
  },
  {
   "cell_type": "markdown",
   "metadata": {
    "colab_type": "text",
    "id": "Di4yuxVRbwZo"
   },
   "source": [
    "### Information gain"
   ]
  },
  {
   "cell_type": "markdown",
   "metadata": {
    "colab_type": "text",
    "id": "EzycYyfnkb_j"
   },
   "source": [
    "#### Self-information"
   ]
  },
  {
   "cell_type": "markdown",
   "metadata": {
    "colab_type": "text",
    "id": "RI14hQFykf9z"
   },
   "source": [
    "\n",
    "* Let $X = (x_1, x_2, ..., x_n)$ be our *information source* (feature), e.g. weather condition: $x_1$ = sunny, $x_2$ = overcast, $x_3$ = rainy\n",
    "\n",
    "* And let $$ P = (p_1, p_2, ..., p_n)$$ be corresponding probrability distribution (or more precisely - probability mass function)\n",
    "\n",
    "* We want some measure of information $I$ provided by an event. It should satisfy the following properties:\n",
    "\n",
    "    * $I$ depends only on the probability of $x_i$, thus $I \\equiv I(p_i)$\n",
    "    \n",
    "    * $I$ is continuous and decreasing function of $p_i$\n",
    "    \n",
    "    * $I$ is non-negative and $I(1) = 0$\n",
    "    \n",
    "    * if $p_i = p_{i, 1} \\dot p_{i, 2}$ (independent events) then $I(p_i) = I(p_{i, 1}) + I(p_{i, 2})$\n",
    "    \n",
    "* Logarithmic function satisfies all above condition, so we define self-information as: <p align=\"center\"><br>$I(p) = -\\log(p)$</p><br>\n",
    "\n",
    "    * The most common log base is **2** and then information is in **shannons (Sh)**, also known as **bits**\n",
    "    \n",
    "    * In the case of **natural logarithm** the unit is **nat** (natural unit of information)\n",
    "    \n",
    "    * In the case of base **10** the unit is **hartley (Hart)**, also known as **dit**"
   ]
  },
  {
   "cell_type": "markdown",
   "metadata": {
    "colab_type": "text",
    "id": "Ge7VrhjaQxT4"
   },
   "source": [
    "* Lets X = (head, tail) with P = (0.5, 0.5)\n",
    "\n",
    "    * We get 1 Sh of information\n",
    "\n",
    "* Lets X = (sunny, overcast, rainy) with P = (0.25, 0.75, 0.25)\n",
    "\n",
    "    * If it is overcast, we get 0.415 Sh of information\n",
    "    \n",
    "    * Otherwise, we get 2 Sh of information\n",
    "    \n",
    "* If an event is more likely we learn less"
   ]
  },
  {
   "cell_type": "markdown",
   "metadata": {
    "colab_type": "text",
    "id": "sL_Ln0QPSbzT"
   },
   "source": [
    "#### Information entropy"
   ]
  },
  {
   "cell_type": "markdown",
   "metadata": {
    "colab_type": "text",
    "id": "KeH28Zbhb0t9"
   },
   "source": [
    "* Also called Shannon entropy (after the father of intromation theory)\n",
    "\n",
    "* Usually information entropy is denoted as $H$\n",
    "\n",
    "* $H$ is defined as the weighted average of the self-information of all possible outcomes <p align=\"center\"><br>$H(X) = \\sum\\limits_{i=1}^N p_i \\cdot I(p_i) = -\\sum\\limits_{i=1}^N p_i\\cdot\\log(p_i)$</p><br>\n",
    "\n",
    "* Lets consider two case scenario with $P = (p, 1 - p)$, so entropy is given by $H = -p \\log(p) - (1 - p) \\log(1 - p)$"
   ]
  },
  {
   "cell_type": "markdown",
   "metadata": {
    "colab_type": "text",
    "id": "hZeT2vioGvLR"
   },
   "source": [
    "* Lets consider three case scenario with $P = (p, q, 1 - p - q)$, so entropy is given by $H = -p \\log(p) - q\\log(q) - (1 - p - q) \\log(1 - p - q)$"
   ]
  },
  {
   "cell_type": "markdown",
   "metadata": {
    "colab_type": "text",
    "id": "vfkDvftnXqST"
   },
   "source": [
    "#### Information gain"
   ]
  },
  {
   "cell_type": "markdown",
   "metadata": {
    "colab_type": "text",
    "id": "HEBoQx4bXr6d"
   },
   "source": [
    "* Let $T$ be the set of training samples with $n$ possible outcomes, thus $T = \\{T_1, T_2, ..., T_n\\}$\n",
    "\n",
    "* The entropy is given by <p align=\"center\"><br>$H(T) = -\\sum\\limits_{i=1}^N p_i\\cdot\\log(p_i) = -\\sum\\limits_{i=1}^N \\frac{|T_i|}{|T|}\\cdot\\log(\\frac{|T_i|}{|T|})$</p><br>\n",
    "    \n",
    "* We can also calulate the entropy after $T$ was partitioned in $T_i$ with respect to some feature $X$ <p align=\"center\"><br>$H(T, X) = \\sum\\limits_{i=1}^N p_i\\cdot H(T_i)$</p>\n",
    "\n",
    "* And the information gain is defined as <p align=\"center\"><br>$G(X) = H(T) - H(T, X)$</p>"
   ]
  },
  {
   "cell_type": "code",
   "execution_count": 47,
   "metadata": {
    "colab": {
     "autoexec": {
      "startup": false,
      "wait_interval": 0
     },
     "base_uri": "https://localhost:8080/",
     "height": 35,
     "output_extras": [
      {}
     ]
    },
    "colab_type": "code",
    "executionInfo": {
     "elapsed": 591,
     "status": "ok",
     "timestamp": 1519065964238,
     "user": {
      "displayName": "Tomasz Golan",
      "photoUrl": "https://lh3.googleusercontent.com/a/default-user=s128",
      "userId": "115905663164825068851"
     },
     "user_tz": -60
    },
    "id": "RqGJ6wdjKKwS",
    "outputId": "7e08ec5d-21e1-40ec-a0a0-1f2c3ac4f230"
   },
   "outputs": [
    {
     "name": "stdout",
     "output_type": "stream",
     "text": [
      "0.9402859586706309 0.9182958340544896 1.0\n"
     ]
    }
   ],
   "source": [
    "from math import log\n",
    "\n",
    "def entropy(*probs):\n",
    "  \"\"\"Calculate information entropy\"\"\"\n",
    "  try:\n",
    "    total = sum(probs)\n",
    "    return sum([-p / total * log(p / total, 2) for p in probs])\n",
    "  except:\n",
    "    return 0\n",
    "\n",
    "print(entropy(9, 5), entropy(2, 1), entropy(2, 2))"
   ]
  },
  {
   "cell_type": "markdown",
   "metadata": {
    "colab_type": "text",
    "id": "-f4jiiLKJ-Pg"
   },
   "source": [
    "### ID3 algorithm"
   ]
  },
  {
   "cell_type": "markdown",
   "metadata": {
    "colab_type": "text",
    "id": "shzXN622KBb3"
   },
   "source": [
    "* For every attribute (feature) calculate the entropy\n",
    "\n",
    "* Split the training set using the one for which information gain is maximum\n",
    "\n",
    "* Continue recursively on subsets using remaining features"
   ]
  },
  {
   "cell_type": "markdown",
   "metadata": {
    "colab_type": "text",
    "id": "dhYbXjuqLaps"
   },
   "source": [
    "### Play Golf dataset"
   ]
  },
  {
   "cell_type": "markdown",
   "metadata": {
    "colab_type": "text",
    "id": "PTZZfV0HMqAr"
   },
   "source": [
    "* Popular dataset to explain decision trees\n",
    "\n",
    "* 4 features:\n",
    "\n",
    "    * **outlook**: *rainy, overcast, sunny*\n",
    "    \n",
    "    * **temperature**: *cool, mild, hot*\n",
    "    \n",
    "    * **humidity**: *normal, high*\n",
    "    \n",
    "    * **windy**: *false, true*\n",
    "    \n",
    "* Possible outcomes (play golf?):\n",
    "\n",
    "    * **false**\n",
    "    \n",
    "    * **true**"
   ]
  },
  {
   "cell_type": "code",
   "execution_count": 9,
   "metadata": {
    "colab": {
     "autoexec": {
      "startup": false,
      "wait_interval": 0
     }
    },
    "colab_type": "code",
    "collapsed": true,
    "id": "-rBdonC4MQOc"
   },
   "outputs": [],
   "source": [
    "import pandas as pd\n",
    "\n",
    "# first row = headers\n",
    "src = \"weather.nominal.csv\"\n",
    "\n",
    "golf_data = pd.read_csv(src)"
   ]
  },
  {
   "cell_type": "code",
   "execution_count": 10,
   "metadata": {
    "colab": {
     "autoexec": {
      "startup": false,
      "wait_interval": 0
     },
     "base_uri": "https://localhost:8080/",
     "height": 483,
     "output_extras": [
      {}
     ]
    },
    "colab_type": "code",
    "executionInfo": {
     "elapsed": 630,
     "status": "ok",
     "timestamp": 1518962322203,
     "user": {
      "displayName": "Tomasz Golan",
      "photoUrl": "https://lh3.googleusercontent.com/a/default-user=s128",
      "userId": "115905663164825068851"
     },
     "user_tz": -60
    },
    "id": "eiqgyK9iMd47",
    "outputId": "2fa2a515-8d6d-4d20-bb22-f1187b798bda"
   },
   "outputs": [
    {
     "data": {
      "text/html": [
       "<div>\n",
       "<table border=\"1\" class=\"dataframe\">\n",
       "  <thead>\n",
       "    <tr style=\"text-align: right;\">\n",
       "      <th></th>\n",
       "      <th>outlook</th>\n",
       "      <th>temperature</th>\n",
       "      <th>humidity</th>\n",
       "      <th>windy</th>\n",
       "      <th>play</th>\n",
       "    </tr>\n",
       "  </thead>\n",
       "  <tbody>\n",
       "    <tr>\n",
       "      <th>0</th>\n",
       "      <td>sunny</td>\n",
       "      <td>hot</td>\n",
       "      <td>high</td>\n",
       "      <td>False</td>\n",
       "      <td>no</td>\n",
       "    </tr>\n",
       "    <tr>\n",
       "      <th>1</th>\n",
       "      <td>sunny</td>\n",
       "      <td>hot</td>\n",
       "      <td>high</td>\n",
       "      <td>True</td>\n",
       "      <td>no</td>\n",
       "    </tr>\n",
       "    <tr>\n",
       "      <th>2</th>\n",
       "      <td>overcast</td>\n",
       "      <td>hot</td>\n",
       "      <td>high</td>\n",
       "      <td>False</td>\n",
       "      <td>yes</td>\n",
       "    </tr>\n",
       "    <tr>\n",
       "      <th>3</th>\n",
       "      <td>rainy</td>\n",
       "      <td>mild</td>\n",
       "      <td>high</td>\n",
       "      <td>False</td>\n",
       "      <td>yes</td>\n",
       "    </tr>\n",
       "    <tr>\n",
       "      <th>4</th>\n",
       "      <td>rainy</td>\n",
       "      <td>cool</td>\n",
       "      <td>normal</td>\n",
       "      <td>False</td>\n",
       "      <td>yes</td>\n",
       "    </tr>\n",
       "    <tr>\n",
       "      <th>5</th>\n",
       "      <td>rainy</td>\n",
       "      <td>cool</td>\n",
       "      <td>normal</td>\n",
       "      <td>True</td>\n",
       "      <td>no</td>\n",
       "    </tr>\n",
       "    <tr>\n",
       "      <th>6</th>\n",
       "      <td>overcast</td>\n",
       "      <td>cool</td>\n",
       "      <td>normal</td>\n",
       "      <td>True</td>\n",
       "      <td>yes</td>\n",
       "    </tr>\n",
       "    <tr>\n",
       "      <th>7</th>\n",
       "      <td>sunny</td>\n",
       "      <td>mild</td>\n",
       "      <td>high</td>\n",
       "      <td>False</td>\n",
       "      <td>no</td>\n",
       "    </tr>\n",
       "    <tr>\n",
       "      <th>8</th>\n",
       "      <td>sunny</td>\n",
       "      <td>cool</td>\n",
       "      <td>normal</td>\n",
       "      <td>False</td>\n",
       "      <td>yes</td>\n",
       "    </tr>\n",
       "    <tr>\n",
       "      <th>9</th>\n",
       "      <td>rainy</td>\n",
       "      <td>mild</td>\n",
       "      <td>normal</td>\n",
       "      <td>False</td>\n",
       "      <td>yes</td>\n",
       "    </tr>\n",
       "    <tr>\n",
       "      <th>10</th>\n",
       "      <td>sunny</td>\n",
       "      <td>mild</td>\n",
       "      <td>normal</td>\n",
       "      <td>True</td>\n",
       "      <td>yes</td>\n",
       "    </tr>\n",
       "    <tr>\n",
       "      <th>11</th>\n",
       "      <td>overcast</td>\n",
       "      <td>mild</td>\n",
       "      <td>high</td>\n",
       "      <td>True</td>\n",
       "      <td>yes</td>\n",
       "    </tr>\n",
       "    <tr>\n",
       "      <th>12</th>\n",
       "      <td>overcast</td>\n",
       "      <td>hot</td>\n",
       "      <td>normal</td>\n",
       "      <td>False</td>\n",
       "      <td>yes</td>\n",
       "    </tr>\n",
       "    <tr>\n",
       "      <th>13</th>\n",
       "      <td>rainy</td>\n",
       "      <td>mild</td>\n",
       "      <td>high</td>\n",
       "      <td>True</td>\n",
       "      <td>no</td>\n",
       "    </tr>\n",
       "  </tbody>\n",
       "</table>\n",
       "</div>"
      ],
      "text/plain": [
       "     outlook temperature humidity  windy play\n",
       "0      sunny         hot     high  False   no\n",
       "1      sunny         hot     high   True   no\n",
       "2   overcast         hot     high  False  yes\n",
       "3      rainy        mild     high  False  yes\n",
       "4      rainy        cool   normal  False  yes\n",
       "5      rainy        cool   normal   True   no\n",
       "6   overcast        cool   normal   True  yes\n",
       "7      sunny        mild     high  False   no\n",
       "8      sunny        cool   normal  False  yes\n",
       "9      rainy        mild   normal  False  yes\n",
       "10     sunny        mild   normal   True  yes\n",
       "11  overcast        mild     high   True  yes\n",
       "12  overcast         hot   normal  False  yes\n",
       "13     rainy        mild     high   True   no"
      ]
     },
     "execution_count": 10,
     "metadata": {},
     "output_type": "execute_result"
    }
   ],
   "source": [
    "golf_data"
   ]
  },
  {
   "cell_type": "markdown",
   "metadata": {
    "colab_type": "text",
    "id": "rwPC8YUcOq27"
   },
   "source": [
    "#### Play golf entropy"
   ]
  },
  {
   "cell_type": "code",
   "execution_count": 13,
   "metadata": {},
   "outputs": [
    {
     "data": {
      "text/plain": [
       "yes    9\n",
       "no     5\n",
       "Name: play, dtype: int64"
      ]
     },
     "execution_count": 13,
     "metadata": {},
     "output_type": "execute_result"
    }
   ],
   "source": [
    "golf_data['play'].value_counts()"
   ]
  },
  {
   "cell_type": "code",
   "execution_count": 14,
   "metadata": {
    "colab": {
     "autoexec": {
      "startup": false,
      "wait_interval": 0
     },
     "base_uri": "https://localhost:8080/",
     "height": 35,
     "output_extras": [
      {}
     ]
    },
    "colab_type": "code",
    "executionInfo": {
     "elapsed": 693,
     "status": "ok",
     "timestamp": 1518963015465,
     "user": {
      "displayName": "Tomasz Golan",
      "photoUrl": "https://lh3.googleusercontent.com/a/default-user=s128",
      "userId": "115905663164825068851"
     },
     "user_tz": -60
    },
    "id": "W3sXLY1RPaOL",
    "outputId": "97523b87-8b8c-4964-84de-e200e775e413"
   },
   "outputs": [
    {
     "data": {
      "text/plain": [
       "0.9402859586706309"
      ]
     },
     "execution_count": 14,
     "metadata": {},
     "output_type": "execute_result"
    }
   ],
   "source": [
    "entropy(9, 5)"
   ]
  },
  {
   "cell_type": "markdown",
   "metadata": {
    "colab_type": "text",
    "id": "0FwisSKROsj8"
   },
   "source": [
    "```\n",
    "| Play golf |\n",
    "=============\n",
    "| yes | no  |  -> H(T) = 0.94\n",
    "-------------\n",
    "\n",
    "|  9  |  5  |\n",
    "```"
   ]
  },
  {
   "cell_type": "code",
   "execution_count": 18,
   "metadata": {},
   "outputs": [
    {
     "data": {
      "text/html": [
       "<div>\n",
       "<table border=\"1\" class=\"dataframe\">\n",
       "  <thead>\n",
       "    <tr style=\"text-align: right;\">\n",
       "      <th>play</th>\n",
       "      <th>no</th>\n",
       "      <th>yes</th>\n",
       "    </tr>\n",
       "    <tr>\n",
       "      <th>outlook</th>\n",
       "      <th></th>\n",
       "      <th></th>\n",
       "    </tr>\n",
       "  </thead>\n",
       "  <tbody>\n",
       "    <tr>\n",
       "      <th>overcast</th>\n",
       "      <td>NaN</td>\n",
       "      <td>4</td>\n",
       "    </tr>\n",
       "    <tr>\n",
       "      <th>rainy</th>\n",
       "      <td>2</td>\n",
       "      <td>3</td>\n",
       "    </tr>\n",
       "    <tr>\n",
       "      <th>sunny</th>\n",
       "      <td>3</td>\n",
       "      <td>2</td>\n",
       "    </tr>\n",
       "  </tbody>\n",
       "</table>\n",
       "</div>"
      ],
      "text/plain": [
       "play      no  yes\n",
       "outlook          \n",
       "overcast NaN    4\n",
       "rainy      2    3\n",
       "sunny      3    2"
      ]
     },
     "execution_count": 18,
     "metadata": {},
     "output_type": "execute_result"
    }
   ],
   "source": [
    "golf_data.groupby('outlook')['play'].value_counts().unstack()"
   ]
  },
  {
   "cell_type": "markdown",
   "metadata": {
    "colab_type": "text",
    "id": "YZeB5dxhQJb_"
   },
   "source": [
    "#### Play golf vs outlook"
   ]
  },
  {
   "cell_type": "markdown",
   "metadata": {
    "colab_type": "text",
    "id": "UMSgW6pnQXfw"
   },
   "source": [
    "```\n",
    "                   | Play golf |\n",
    "                   =============\n",
    "                   | yes | no  |\n",
    "        ------------------------\n",
    "        | sunny    |  3  |  2  |  5\n",
    "outlook | overcast |  4  |  0  |  4\n",
    "        | rainy    |  2  |  3  |  5\n",
    "        ------------------------\n",
    "                      9     5\n",
    "```"
   ]
  },
  {
   "cell_type": "code",
   "execution_count": null,
   "metadata": {
    "colab": {
     "autoexec": {
      "startup": false,
      "wait_interval": 0
     },
     "base_uri": "https://localhost:8080/",
     "height": 35,
     "output_extras": [
      {}
     ]
    },
    "colab_type": "code",
    "executionInfo": {
     "elapsed": 582,
     "status": "ok",
     "timestamp": 1518963391060,
     "user": {
      "displayName": "Tomasz Golan",
      "photoUrl": "https://lh3.googleusercontent.com/a/default-user=s128",
      "userId": "115905663164825068851"
     },
     "user_tz": -60
    },
    "id": "7b7R4zX9RVub",
    "outputId": "dd6d4771-6aa5-467b-a7f3-9b7a0b88a458"
   },
   "outputs": [
    {
     "data": {
      "text/plain": [
       "(0.9709505944546686, 0, 0.9709505944546686)"
      ]
     },
     "execution_count": 89,
     "metadata": {
      "tags": []
     },
     "output_type": "execute_result"
    }
   ],
   "source": [
    "entropy(3, 2), 0, entropy(2, 3)"
   ]
  },
  {
   "cell_type": "markdown",
   "metadata": {
    "colab_type": "text",
    "id": "HFCj1XhwRhlo"
   },
   "source": [
    "<br>\n",
    "\n",
    "<p align=\"center\">\n",
    "\\begin{eqnarray}\n",
    "   H(\\mbox{sunny}) & = & 0.97 \\\\\n",
    "   H(\\mbox{rainy}) & = & 0.97 \\\\\n",
    "H(\\mbox{overcast}) & = & 0\n",
    "\\end{eqnarray}\n",
    "</p>\n",
    "\n",
    "<br>\n",
    "\n",
    "---\n",
    "\n",
    "<br>\n",
    "\n",
    "<p align=\"center\">\n",
    "\\begin{eqnarray}\n",
    "H(T, \\mbox{outlook}) & = & P(\\mbox{sunny})\\cdot H(\\mbox{sunny}) + P(\\mbox{overcast})\\cdot H(\\mbox{overcast}) + P(\\mbox{rainy})\\cdot H(\\mbox{rainy}) \\\\\n",
    "                     & = & \\frac{5}{14}\\cdot 0.97 + \\frac{4}{14} \\cdot 0 + \\frac{5}{14}\\cdot 0.97 = 0.69\n",
    "\\end{eqnarray}\n",
    "</p>\n",
    "\n",
    "<br>\n",
    "\n",
    "---\n",
    "\n",
    "<br>\n",
    "\n",
    "<p align=\"center\">\n",
    "\\begin{eqnarray}\n",
    "G(\\mbox{outlook}) & = & H(T) - H(T, \\mbox{outlook}) = 0.94 - 0.69 = 0.25\n",
    "\\end{eqnarray}\n",
    "</p>\n",
    "\n",
    "<br>"
   ]
  },
  {
   "cell_type": "markdown",
   "metadata": {
    "colab_type": "text",
    "id": "V1ClaHCYTsd1"
   },
   "source": [
    "#### Results for all features"
   ]
  },
  {
   "cell_type": "markdown",
   "metadata": {
    "colab_type": "text",
    "id": "nfwhbFqFUapR"
   },
   "source": [
    "```\n",
    "                    | Play golf |                         | Play golf |\n",
    "                    =============                         =============\n",
    "                    | yes | no  |                         | yes | no  |\n",
    "         ------------------------                 --------------------\n",
    "         | sunny    |  3  |  2  |                 | hot   |  2  |  2  |\n",
    " outlook | overcast |  4  |  0  |     temperature | mild  |  4  |  2  |\n",
    "         | rainy    |  2  |  3  |                 | cool  |  3  |  1  |\n",
    "         ------------------------                 --------------------\n",
    "            Info. gain = 0.25                       Info gain = 0.03\n",
    "\n",
    "\n",
    "                    | Play golf |                         | Play golf |\n",
    "                    =============                         =============\n",
    "                    | yes | no  |                         | yes | no  |\n",
    "         ------------------------                 --------------------\n",
    "         | high     |  3  |  4  |                 | false |  6  |  2  |\n",
    "humidity | normal   |  6  |  1  |           windy | true  |  3  |  3  |\n",
    "         ------------------------                 --------------------\n",
    "            Info. gain = 0.15                       Info gain = 0.05\n",
    "            \n",
    "\n",
    "```"
   ]
  },
  {
   "cell_type": "markdown",
   "metadata": {
    "colab_type": "text",
    "id": "rH5X2d7MWb-A"
   },
   "source": [
    "#### Root of the tree"
   ]
  },
  {
   "cell_type": "markdown",
   "metadata": {
    "colab_type": "text",
    "id": "48K57WiKWfK9"
   },
   "source": [
    "* Start building a tree with the feature with the largest information gain: **outlook**\n",
    "\n",
    "* A branch with **entropy 0** is a leaf node: **overcast**\n",
    "\n",
    "* Other branches must be spliited using other features "
   ]
  },
  {
   "cell_type": "code",
   "execution_count": null,
   "metadata": {
    "colab": {
     "autoexec": {
      "startup": false,
      "wait_interval": 0
     },
     "base_uri": "https://localhost:8080/",
     "height": 204,
     "output_extras": [
      {}
     ]
    },
    "colab_type": "code",
    "executionInfo": {
     "elapsed": 566,
     "status": "ok",
     "timestamp": 1518965126632,
     "user": {
      "displayName": "Tomasz Golan",
      "photoUrl": "https://lh3.googleusercontent.com/a/default-user=s128",
      "userId": "115905663164825068851"
     },
     "user_tz": -60
    },
    "id": "Tc7Uijo3X3rk",
    "outputId": "734d090e-5899-4a7c-e43c-4cfacb0e51ca"
   },
   "outputs": [
    {
     "data": {
      "text/html": [
       "<div>\n",
       "<style scoped>\n",
       "    .dataframe tbody tr th:only-of-type {\n",
       "        vertical-align: middle;\n",
       "    }\n",
       "\n",
       "    .dataframe tbody tr th {\n",
       "        vertical-align: top;\n",
       "    }\n",
       "\n",
       "    .dataframe thead th {\n",
       "        text-align: right;\n",
       "    }\n",
       "</style>\n",
       "<table border=\"1\" class=\"dataframe\">\n",
       "  <thead>\n",
       "    <tr style=\"text-align: right;\">\n",
       "      <th></th>\n",
       "      <th>Outlook</th>\n",
       "      <th>Temperature</th>\n",
       "      <th>Humidity</th>\n",
       "      <th>Windy</th>\n",
       "      <th>Play golf</th>\n",
       "    </tr>\n",
       "  </thead>\n",
       "  <tbody>\n",
       "    <tr>\n",
       "      <th>3</th>\n",
       "      <td>Sunny</td>\n",
       "      <td>Mild</td>\n",
       "      <td>High</td>\n",
       "      <td>False</td>\n",
       "      <td>Yes</td>\n",
       "    </tr>\n",
       "    <tr>\n",
       "      <th>4</th>\n",
       "      <td>Sunny</td>\n",
       "      <td>Cool</td>\n",
       "      <td>Normal</td>\n",
       "      <td>False</td>\n",
       "      <td>Yes</td>\n",
       "    </tr>\n",
       "    <tr>\n",
       "      <th>5</th>\n",
       "      <td>Sunny</td>\n",
       "      <td>Cool</td>\n",
       "      <td>Normal</td>\n",
       "      <td>True</td>\n",
       "      <td>No</td>\n",
       "    </tr>\n",
       "    <tr>\n",
       "      <th>9</th>\n",
       "      <td>Sunny</td>\n",
       "      <td>Mild</td>\n",
       "      <td>Normal</td>\n",
       "      <td>False</td>\n",
       "      <td>Yes</td>\n",
       "    </tr>\n",
       "    <tr>\n",
       "      <th>13</th>\n",
       "      <td>Sunny</td>\n",
       "      <td>Mild</td>\n",
       "      <td>High</td>\n",
       "      <td>True</td>\n",
       "      <td>No</td>\n",
       "    </tr>\n",
       "  </tbody>\n",
       "</table>\n",
       "</div>"
      ],
      "text/plain": [
       "   Outlook Temperature Humidity  Windy Play golf\n",
       "3    Sunny        Mild     High  False       Yes\n",
       "4    Sunny        Cool   Normal  False       Yes\n",
       "5    Sunny        Cool   Normal   True        No\n",
       "9    Sunny        Mild   Normal  False       Yes\n",
       "13   Sunny        Mild     High   True        No"
      ]
     },
     "execution_count": 95,
     "metadata": {
      "tags": []
     },
     "output_type": "execute_result"
    }
   ],
   "source": [
    "golf_data.loc[golf_data['Outlook'] == \"Sunny\"]"
   ]
  },
  {
   "cell_type": "markdown",
   "metadata": {
    "colab_type": "text",
    "id": "WCvsLhBWX2t_"
   },
   "source": [
    "* In general, one should calculate information gain for each feature for this subset\n",
    "\n",
    "* In this case it is clear that we can take **windy** "
   ]
  },
  {
   "cell_type": "markdown",
   "metadata": {
    "colab_type": "text",
    "id": "7y5XwdbCcAqp"
   },
   "source": [
    "#### Last branch"
   ]
  },
  {
   "cell_type": "code",
   "execution_count": null,
   "metadata": {
    "colab": {
     "autoexec": {
      "startup": false,
      "wait_interval": 0
     },
     "base_uri": "https://localhost:8080/",
     "height": 204,
     "output_extras": [
      {}
     ]
    },
    "colab_type": "code",
    "executionInfo": {
     "elapsed": 561,
     "status": "ok",
     "timestamp": 1518966166550,
     "user": {
      "displayName": "Tomasz Golan",
      "photoUrl": "https://lh3.googleusercontent.com/a/default-user=s128",
      "userId": "115905663164825068851"
     },
     "user_tz": -60
    },
    "id": "YqU_tcKHcCno",
    "outputId": "bf61fb9d-1df0-42ae-ae82-2bce3c322503"
   },
   "outputs": [
    {
     "data": {
      "text/html": [
       "<div>\n",
       "<style scoped>\n",
       "    .dataframe tbody tr th:only-of-type {\n",
       "        vertical-align: middle;\n",
       "    }\n",
       "\n",
       "    .dataframe tbody tr th {\n",
       "        vertical-align: top;\n",
       "    }\n",
       "\n",
       "    .dataframe thead th {\n",
       "        text-align: right;\n",
       "    }\n",
       "</style>\n",
       "<table border=\"1\" class=\"dataframe\">\n",
       "  <thead>\n",
       "    <tr style=\"text-align: right;\">\n",
       "      <th></th>\n",
       "      <th>Outlook</th>\n",
       "      <th>Temperature</th>\n",
       "      <th>Humidity</th>\n",
       "      <th>Windy</th>\n",
       "      <th>Play golf</th>\n",
       "    </tr>\n",
       "  </thead>\n",
       "  <tbody>\n",
       "    <tr>\n",
       "      <th>0</th>\n",
       "      <td>Rainy</td>\n",
       "      <td>Hot</td>\n",
       "      <td>High</td>\n",
       "      <td>False</td>\n",
       "      <td>No</td>\n",
       "    </tr>\n",
       "    <tr>\n",
       "      <th>1</th>\n",
       "      <td>Rainy</td>\n",
       "      <td>Hot</td>\n",
       "      <td>High</td>\n",
       "      <td>True</td>\n",
       "      <td>No</td>\n",
       "    </tr>\n",
       "    <tr>\n",
       "      <th>7</th>\n",
       "      <td>Rainy</td>\n",
       "      <td>Mild</td>\n",
       "      <td>High</td>\n",
       "      <td>False</td>\n",
       "      <td>No</td>\n",
       "    </tr>\n",
       "    <tr>\n",
       "      <th>8</th>\n",
       "      <td>Rainy</td>\n",
       "      <td>Cool</td>\n",
       "      <td>Normal</td>\n",
       "      <td>False</td>\n",
       "      <td>Yes</td>\n",
       "    </tr>\n",
       "    <tr>\n",
       "      <th>10</th>\n",
       "      <td>Rainy</td>\n",
       "      <td>Mild</td>\n",
       "      <td>Normal</td>\n",
       "      <td>True</td>\n",
       "      <td>Yes</td>\n",
       "    </tr>\n",
       "  </tbody>\n",
       "</table>\n",
       "</div>"
      ],
      "text/plain": [
       "   Outlook Temperature Humidity  Windy Play golf\n",
       "0    Rainy         Hot     High  False        No\n",
       "1    Rainy         Hot     High   True        No\n",
       "7    Rainy        Mild     High  False        No\n",
       "8    Rainy        Cool   Normal  False       Yes\n",
       "10   Rainy        Mild   Normal   True       Yes"
      ]
     },
     "execution_count": 99,
     "metadata": {
      "tags": []
     },
     "output_type": "execute_result"
    }
   ],
   "source": [
    "golf_data.loc[golf_data['Outlook'] == \"Rainy\"]"
   ]
  },
  {
   "cell_type": "markdown",
   "metadata": {
    "colab_type": "text",
    "id": "JDxe9-7-duMb"
   },
   "source": [
    "#### Summary"
   ]
  },
  {
   "cell_type": "markdown",
   "metadata": {
    "colab_type": "text",
    "id": "erVyW4sAd0EI"
   },
   "source": [
    "* We got the final tree for Play Golf dataset using ID3 algorithm\n",
    "\n",
    "* We do not even use temperature attribute (for which information gain was 0.03)\n",
    "\n",
    "* The main problem is that the algorithm may overfit easily (tree does not stop growing until the whole training set is classified)\n",
    "\n",
    "    * Imagine some crazy guys went playing on a **rainy**, **windy** day with **high humidity**, beacaue it was still **hot**\n",
    "    \n",
    "    * With this extra data point we would have to create more branches\n",
    "    \n",
    "    * Is one unique data sample worth to extend the whole tree?\n",
    "\n",
    "* And there is more disadvantages:\n",
    "\n",
    "    * It handles only discrete attributes\n",
    "\n",
    "    * There is a strong bias for features with many possible outcomes\n",
    "\n",
    "    * And finally, it does not handle missing values"
   ]
  },
  {
   "cell_type": "markdown",
   "metadata": {
    "colab_type": "text",
    "id": "enmlgLm8eyMs"
   },
   "source": [
    "### C4.5 algorithm"
   ]
  },
  {
   "cell_type": "markdown",
   "metadata": {
    "colab_type": "text",
    "id": "p0lOc6zXrj1J"
   },
   "source": [
    "* C4.5 introduces some improvements to ID3:\n",
    "\n",
    "    * continuous values using threshold\n",
    "    \n",
    "    * tree pruning to avoid overfitting\n",
    "    \n",
    "    * normalized information gain\n",
    "    \n",
    "    * missing values\n"
   ]
  },
  {
   "cell_type": "markdown",
   "metadata": {
    "colab_type": "text",
    "id": "sPKESIbRVEp1"
   },
   "source": [
    "#### Pruning"
   ]
  },
  {
   "cell_type": "markdown",
   "metadata": {
    "colab_type": "text",
    "id": "rfeubQeeVGXl"
   },
   "source": [
    "* The algorithm creates as many nodes as needed to classify all test samples\n",
    "\n",
    "* It may lead to overfitting and the resulting tree would fail to classify correctly unseen samples\n",
    "\n",
    "* To avoid this one can prune a tree\n",
    "\n",
    "    * pre-pruning (early stopping)\n",
    "    \n",
    "        * stop building a tree before leaves with few samples are produced\n",
    "        \n",
    "        * how to decide when it is good time to stop? e.g. using cross-validation on validation set (stop if the error does not increase significantly)\n",
    "        \n",
    "        * underfitting if stop to early\n",
    "        \n",
    "    * post-pruning\n",
    "    \n",
    "        * let a tree grow completely\n",
    "        \n",
    "        * then go from bottom to top and try to replace a node with a leaf\n",
    "        \n",
    "        * if there is improvement in accuracy - cut a tree\n",
    "        \n",
    "        * if the accuracy stays the same - cut a tree (Occam's razor)\n",
    "        \n",
    "        * otherwise leave a node   \n",
    "      "
   ]
  },
  {
   "cell_type": "markdown",
   "metadata": {
    "colab_type": "text",
    "id": "Q5ZYqEN5tm6Y"
   },
   "source": [
    "#### Gini impurity"
   ]
  },
  {
   "cell_type": "markdown",
   "metadata": {
    "colab_type": "text",
    "id": "VzzebpHxG0a1"
   },
   "source": [
    "* We treat all values as they are continues\n",
    "\n",
    "* And consider all possible split\n",
    "\n",
    "* Every split leads to two subsets $S_1$ and $S_2$\n",
    "\n",
    "* And gini impurity for a set $S$ for given split is given by: <p align=\"center\">$I(S) = \\frac{|S_1|}{|S|}\\cdot I(S_1) + \\frac{|S_2|}{|S|}\\cdot I(S_2)$</p>"
   ]
  },
  {
   "cell_type": "code",
   "execution_count": 19,
   "metadata": {
    "colab": {
     "autoexec": {
      "startup": false,
      "wait_interval": 0
     }
    },
    "colab_type": "code",
    "collapsed": true,
    "id": "neoYWKdODw6w"
   },
   "outputs": [],
   "source": [
    "def gini(*distribution):\n",
    "  \"\"\"Calculate gini impurity for given ditribution of samples\"\"\"\n",
    "  sum2 = sum(distribution)**2  # normalization factor\n",
    "  \n",
    "  return 1 - sum([p**2 for p in distribution])/sum2"
   ]
  },
  {
   "cell_type": "code",
   "execution_count": 20,
   "metadata": {
    "colab": {
     "autoexec": {
      "startup": false,
      "wait_interval": 0
     }
    },
    "colab_type": "code",
    "collapsed": true,
    "id": "DXTJOEgOJsbt"
   },
   "outputs": [],
   "source": [
    "def gini_split(s1, s2, g1, g2):\n",
    "  \"\"\"Calcualte impurity for given split\n",
    "  \n",
    "  s1 -- the size of S1 subset\n",
    "  s1 -- the size of S2 subset\n",
    "  g1 -- I(S1)\n",
    "  g2 -- I(S2)\n",
    "  \"\"\"\n",
    "  s = s1 + s2  # the total set size\n",
    "  \n",
    "  return s1/s * g1 + s2/s * g2"
   ]
  },
  {
   "cell_type": "markdown",
   "metadata": {
    "colab_type": "text",
    "id": "x2k-Vva-KZHb"
   },
   "source": [
    "```\n",
    "            | Play golf |\n",
    "            =============\n",
    "            | yes | no  |\n",
    "      -------------------\n",
    "      | yes |  2  |  3  | 5\n",
    "rainy | no  |  7  |  2  | 9\n",
    "      -------------------\n",
    "               9     5\n",
    "```"
   ]
  },
  {
   "cell_type": "code",
   "execution_count": 21,
   "metadata": {
    "colab": {
     "autoexec": {
      "startup": false,
      "wait_interval": 0
     },
     "base_uri": "https://localhost:8080/",
     "height": 34,
     "output_extras": [
      {}
     ]
    },
    "colab_type": "code",
    "executionInfo": {
     "elapsed": 578,
     "status": "ok",
     "timestamp": 1519129514808,
     "user": {
      "displayName": "Tomasz Golan",
      "photoUrl": "https://lh3.googleusercontent.com/a/default-user=s128",
      "userId": "115905663164825068851"
     },
     "user_tz": -60
    },
    "id": "J_86Is60KIIZ",
    "outputId": "dcee8e67-730e-46ad-ae02-acc8762db5f5"
   },
   "outputs": [
    {
     "data": {
      "text/plain": [
       "0.3936507936507937"
      ]
     },
     "execution_count": 21,
     "metadata": {},
     "output_type": "execute_result"
    }
   ],
   "source": [
    "gini_split(5, 9, gini(2, 3), gini(7, 2))"
   ]
  },
  {
   "cell_type": "markdown",
   "metadata": {
    "colab_type": "text",
    "id": "qiMP23zwLUES"
   },
   "source": [
    "```\n",
    "            | Play golf |\n",
    "            =============\n",
    "            | yes | no  |\n",
    "      -------------------\n",
    "      | yes |  3  |  2  | 5\n",
    "sunny | no  |  6  |  3  | 9\n",
    "      -------------------\n",
    "               9     5\n",
    "```"
   ]
  },
  {
   "cell_type": "code",
   "execution_count": 22,
   "metadata": {
    "colab": {
     "autoexec": {
      "startup": false,
      "wait_interval": 0
     },
     "base_uri": "https://localhost:8080/",
     "height": 34,
     "output_extras": [
      {}
     ]
    },
    "colab_type": "code",
    "executionInfo": {
     "elapsed": 771,
     "status": "ok",
     "timestamp": 1519142568316,
     "user": {
      "displayName": "Tomasz Golan",
      "photoUrl": "https://lh3.googleusercontent.com/a/default-user=s128",
      "userId": "115905663164825068851"
     },
     "user_tz": -60
    },
    "id": "trzobwix84pF",
    "outputId": "1d03a0f2-2890-4af9-ab69-1c8ea0135f86"
   },
   "outputs": [
    {
     "data": {
      "text/plain": [
       "0.45714285714285713"
      ]
     },
     "execution_count": 22,
     "metadata": {},
     "output_type": "execute_result"
    }
   ],
   "source": [
    "gini_split(5, 9, gini(3, 2), gini(6, 3))"
   ]
  },
  {
   "cell_type": "markdown",
   "metadata": {
    "colab_type": "text",
    "id": "uZjqkMmS9HIn"
   },
   "source": [
    "```\n",
    "               | Play golf |\n",
    "               =============\n",
    "               | yes | no  |\n",
    "         -------------------\n",
    "         | yes |  4  |  0  | 4\n",
    "overcast | no  |  5  |  5  | 10\n",
    "         -------------------\n",
    "                  9     5\n",
    "```"
   ]
  },
  {
   "cell_type": "code",
   "execution_count": 23,
   "metadata": {
    "colab": {
     "autoexec": {
      "startup": false,
      "wait_interval": 0
     },
     "base_uri": "https://localhost:8080/",
     "height": 34,
     "output_extras": [
      {}
     ]
    },
    "colab_type": "code",
    "executionInfo": {
     "elapsed": 637,
     "status": "ok",
     "timestamp": 1519142681043,
     "user": {
      "displayName": "Tomasz Golan",
      "photoUrl": "https://lh3.googleusercontent.com/a/default-user=s128",
      "userId": "115905663164825068851"
     },
     "user_tz": -60
    },
    "id": "g5FYiyWS9Wc7",
    "outputId": "bab59a63-1ac1-4b0f-f455-9e39bfb00807"
   },
   "outputs": [
    {
     "data": {
      "text/plain": [
       "0.35714285714285715"
      ]
     },
     "execution_count": 23,
     "metadata": {},
     "output_type": "execute_result"
    }
   ],
   "source": [
    "gini_split(4, 10, gini(4, 0), gini(5, 5))"
   ]
  },
  {
   "cell_type": "markdown",
   "metadata": {
    "colab_type": "text",
    "id": "xFoEpYM99z57"
   },
   "source": [
    "* From *Outlook* feature the best choice is *Overcast* as it minimizes impurity\n",
    "\n",
    "* However, we would have to check other features and choose the best predictor from all possibilities\n",
    "\n",
    "* We have one step by step example done though\n",
    "\n",
    "* So lets use some tool"
   ]
  },
  {
   "cell_type": "markdown",
   "metadata": {
    "colab_type": "text",
    "id": "P95M3fXjL18F"
   },
   "source": [
    "### Scikit learn"
   ]
  },
  {
   "cell_type": "markdown",
   "metadata": {
    "colab_type": "text",
    "id": "i9ykYjMytHU6"
   },
   "source": [
    "* One step by step example is behind us, so now lets use some tool\n",
    "\n",
    "\n",
    "* CART is implemented in `scikit-learn`\n",
    "\n",
    "* However, their implementation takes only numerical values\n",
    "\n",
    "* So we will use `LabelDecoder` to convert all values to numbers"
   ]
  },
  {
   "cell_type": "code",
   "execution_count": 24,
   "metadata": {
    "colab": {
     "autoexec": {
      "startup": false,
      "wait_interval": 0
     }
    },
    "colab_type": "code",
    "collapsed": true,
    "id": "8LXPpkmjAxCx"
   },
   "outputs": [],
   "source": [
    "from sklearn.preprocessing import LabelEncoder\n",
    "\n",
    "# pandas.DataFrame.apply applies a function to given axis (0 by default)\n",
    "# LabelEncoder encodes class labels with values between 0 and n-1\n",
    "golf_data_num = golf_data.apply(LabelEncoder().fit_transform)"
   ]
  },
  {
   "cell_type": "code",
   "execution_count": 25,
   "metadata": {
    "colab": {
     "autoexec": {
      "startup": false,
      "wait_interval": 0
     },
     "base_uri": "https://localhost:8080/",
     "height": 483,
     "output_extras": [
      {}
     ]
    },
    "colab_type": "code",
    "executionInfo": {
     "elapsed": 457,
     "status": "ok",
     "timestamp": 1519474959256,
     "user": {
      "displayName": "Tomasz Golan",
      "photoUrl": "https://lh3.googleusercontent.com/a/default-user=s128",
      "userId": "115905663164825068851"
     },
     "user_tz": -60
    },
    "id": "5InH8OhUBDCM",
    "outputId": "297945c6-4deb-438b-ed09-f95a5141162e"
   },
   "outputs": [
    {
     "data": {
      "text/html": [
       "<div>\n",
       "<table border=\"1\" class=\"dataframe\">\n",
       "  <thead>\n",
       "    <tr style=\"text-align: right;\">\n",
       "      <th></th>\n",
       "      <th>outlook</th>\n",
       "      <th>temperature</th>\n",
       "      <th>humidity</th>\n",
       "      <th>windy</th>\n",
       "      <th>play</th>\n",
       "    </tr>\n",
       "  </thead>\n",
       "  <tbody>\n",
       "    <tr>\n",
       "      <th>0</th>\n",
       "      <td>2</td>\n",
       "      <td>1</td>\n",
       "      <td>0</td>\n",
       "      <td>0</td>\n",
       "      <td>0</td>\n",
       "    </tr>\n",
       "    <tr>\n",
       "      <th>1</th>\n",
       "      <td>2</td>\n",
       "      <td>1</td>\n",
       "      <td>0</td>\n",
       "      <td>1</td>\n",
       "      <td>0</td>\n",
       "    </tr>\n",
       "    <tr>\n",
       "      <th>2</th>\n",
       "      <td>0</td>\n",
       "      <td>1</td>\n",
       "      <td>0</td>\n",
       "      <td>0</td>\n",
       "      <td>1</td>\n",
       "    </tr>\n",
       "    <tr>\n",
       "      <th>3</th>\n",
       "      <td>1</td>\n",
       "      <td>2</td>\n",
       "      <td>0</td>\n",
       "      <td>0</td>\n",
       "      <td>1</td>\n",
       "    </tr>\n",
       "    <tr>\n",
       "      <th>4</th>\n",
       "      <td>1</td>\n",
       "      <td>0</td>\n",
       "      <td>1</td>\n",
       "      <td>0</td>\n",
       "      <td>1</td>\n",
       "    </tr>\n",
       "    <tr>\n",
       "      <th>5</th>\n",
       "      <td>1</td>\n",
       "      <td>0</td>\n",
       "      <td>1</td>\n",
       "      <td>1</td>\n",
       "      <td>0</td>\n",
       "    </tr>\n",
       "    <tr>\n",
       "      <th>6</th>\n",
       "      <td>0</td>\n",
       "      <td>0</td>\n",
       "      <td>1</td>\n",
       "      <td>1</td>\n",
       "      <td>1</td>\n",
       "    </tr>\n",
       "    <tr>\n",
       "      <th>7</th>\n",
       "      <td>2</td>\n",
       "      <td>2</td>\n",
       "      <td>0</td>\n",
       "      <td>0</td>\n",
       "      <td>0</td>\n",
       "    </tr>\n",
       "    <tr>\n",
       "      <th>8</th>\n",
       "      <td>2</td>\n",
       "      <td>0</td>\n",
       "      <td>1</td>\n",
       "      <td>0</td>\n",
       "      <td>1</td>\n",
       "    </tr>\n",
       "    <tr>\n",
       "      <th>9</th>\n",
       "      <td>1</td>\n",
       "      <td>2</td>\n",
       "      <td>1</td>\n",
       "      <td>0</td>\n",
       "      <td>1</td>\n",
       "    </tr>\n",
       "    <tr>\n",
       "      <th>10</th>\n",
       "      <td>2</td>\n",
       "      <td>2</td>\n",
       "      <td>1</td>\n",
       "      <td>1</td>\n",
       "      <td>1</td>\n",
       "    </tr>\n",
       "    <tr>\n",
       "      <th>11</th>\n",
       "      <td>0</td>\n",
       "      <td>2</td>\n",
       "      <td>0</td>\n",
       "      <td>1</td>\n",
       "      <td>1</td>\n",
       "    </tr>\n",
       "    <tr>\n",
       "      <th>12</th>\n",
       "      <td>0</td>\n",
       "      <td>1</td>\n",
       "      <td>1</td>\n",
       "      <td>0</td>\n",
       "      <td>1</td>\n",
       "    </tr>\n",
       "    <tr>\n",
       "      <th>13</th>\n",
       "      <td>1</td>\n",
       "      <td>2</td>\n",
       "      <td>0</td>\n",
       "      <td>1</td>\n",
       "      <td>0</td>\n",
       "    </tr>\n",
       "  </tbody>\n",
       "</table>\n",
       "</div>"
      ],
      "text/plain": [
       "    outlook  temperature  humidity  windy  play\n",
       "0         2            1         0      0     0\n",
       "1         2            1         0      1     0\n",
       "2         0            1         0      0     1\n",
       "3         1            2         0      0     1\n",
       "4         1            0         1      0     1\n",
       "5         1            0         1      1     0\n",
       "6         0            0         1      1     1\n",
       "7         2            2         0      0     0\n",
       "8         2            0         1      0     1\n",
       "9         1            2         1      0     1\n",
       "10        2            2         1      1     1\n",
       "11        0            2         0      1     1\n",
       "12        0            1         1      0     1\n",
       "13        1            2         0      1     0"
      ]
     },
     "execution_count": 25,
     "metadata": {},
     "output_type": "execute_result"
    }
   ],
   "source": [
    "golf_data_num"
   ]
  },
  {
   "cell_type": "markdown",
   "metadata": {
    "colab_type": "text",
    "id": "LF426v5xu0R5"
   },
   "source": [
    "* Now, lets splits our dataset to features and labels"
   ]
  },
  {
   "cell_type": "code",
   "execution_count": 26,
   "metadata": {
    "colab": {
     "autoexec": {
      "startup": false,
      "wait_interval": 0
     }
    },
    "colab_type": "code",
    "collapsed": true,
    "id": "iTeCNGN9-wTs"
   },
   "outputs": [],
   "source": [
    "# DataFrame.iloc makes an access thourgh indices\n",
    "# we want all rows and first 4 columns for features\n",
    "# and the last column for labels\n",
    "data = np.array(golf_data_num.iloc[:, :4])\n",
    "target = np.array(golf_data_num.iloc[:, 4])"
   ]
  },
  {
   "cell_type": "code",
   "execution_count": 45,
   "metadata": {
    "colab": {
     "autoexec": {
      "startup": false,
      "wait_interval": 0
     }
    },
    "colab_type": "code",
    "collapsed": true,
    "id": "DGatFNUT-bSK"
   },
   "outputs": [
    {
     "data": {
      "text/plain": [
       "DecisionTreeClassifier(class_weight=None, criterion='entropy', max_depth=None,\n",
       "                       max_features=None, max_leaf_nodes=None,\n",
       "                       min_impurity_decrease=0.0, min_impurity_split=None,\n",
       "                       min_samples_leaf=1, min_samples_split=2,\n",
       "                       min_weight_fraction_leaf=0.0, presort=False,\n",
       "                       random_state=None, splitter='best')"
      ]
     },
     "execution_count": 45,
     "metadata": {},
     "output_type": "execute_result"
    }
   ],
   "source": [
    "from sklearn import tree\n",
    "\n",
    "golf_tree = tree.DecisionTreeClassifier(criterion='entropy')\n",
    "\n",
    "golf_tree.fit(data, target)"
   ]
  },
  {
   "cell_type": "markdown",
   "metadata": {
    "colab_type": "text",
    "id": "Mm2t-BzLwXxF"
   },
   "source": [
    "* `sklearn.tree` supports drawing a tree using `graphviz`"
   ]
  },
  {
   "cell_type": "code",
   "execution_count": 46,
   "metadata": {
    "colab": {
     "autoexec": {
      "startup": false,
      "wait_interval": 0
     },
     "base_uri": "https://localhost:8080/",
     "height": 757,
     "output_extras": [
      {}
     ]
    },
    "colab_type": "code",
    "executionInfo": {
     "elapsed": 737,
     "status": "ok",
     "timestamp": 1519723740666,
     "user": {
      "displayName": "Tomasz Golan",
      "photoUrl": "https://lh3.googleusercontent.com/a/default-user=s128",
      "userId": "115905663164825068851"
     },
     "user_tz": -60
    },
    "id": "OsnJo7ZwMjBq",
    "outputId": "f435ade7-8ce9-4f25-9c68-e14e0ae23918"
   },
   "outputs": [
    {
     "data": {
      "text/plain": [
       "[Text(325.2,501.795,'outlook <= 0.5\\nentropy = 0.94\\nsamples = 14\\nvalue = [5, 9]\\nclass = yes'),\n",
       " Text(243.9,390.285,'entropy = 0.0\\nsamples = 4\\nvalue = [0, 4]\\nclass = yes'),\n",
       " Text(406.5,390.285,'humidity <= 0.5\\nentropy = 1.0\\nsamples = 10\\nvalue = [5, 5]\\nclass = no'),\n",
       " Text(243.9,278.775,'outlook <= 1.5\\nentropy = 0.722\\nsamples = 5\\nvalue = [4, 1]\\nclass = no'),\n",
       " Text(162.6,167.265,'windy <= 0.5\\nentropy = 1.0\\nsamples = 2\\nvalue = [1, 1]\\nclass = no'),\n",
       " Text(81.3,55.755,'entropy = 0.0\\nsamples = 1\\nvalue = [0, 1]\\nclass = yes'),\n",
       " Text(243.9,55.755,'entropy = 0.0\\nsamples = 1\\nvalue = [1, 0]\\nclass = no'),\n",
       " Text(325.2,167.265,'entropy = 0.0\\nsamples = 3\\nvalue = [3, 0]\\nclass = no'),\n",
       " Text(569.1,278.775,'windy <= 0.5\\nentropy = 0.722\\nsamples = 5\\nvalue = [1, 4]\\nclass = yes'),\n",
       " Text(487.8,167.265,'entropy = 0.0\\nsamples = 3\\nvalue = [0, 3]\\nclass = yes'),\n",
       " Text(650.4,167.265,'temperature <= 1.0\\nentropy = 1.0\\nsamples = 2\\nvalue = [1, 1]\\nclass = no'),\n",
       " Text(569.1,55.755,'entropy = 0.0\\nsamples = 1\\nvalue = [1, 0]\\nclass = no'),\n",
       " Text(731.7,55.755,'entropy = 0.0\\nsamples = 1\\nvalue = [0, 1]\\nclass = yes')]"
      ]
     },
     "execution_count": 46,
     "metadata": {},
     "output_type": "execute_result"
    },
    {
     "data": {
      "image/png": "[encoded data removed]",
      "text/plain": [
       "<matplotlib.figure.Figure at 0x23f8a49b400>"
      ]
     },
     "metadata": {},
     "output_type": "display_data"
    }
   ],
   "source": [
    "f,ax = plt.subplots(1,1)\n",
    "tree.plot_tree(golf_tree,ax=ax,class_names=['no','yes'], feature_names = ['outlook',\"temperature\",\"humidity\",\"windy\",\"play\"]) "
   ]
  },
  {
   "cell_type": "code",
   "execution_count": null,
   "metadata": {},
   "outputs": [],
   "source": []
  }
 ],
 "metadata": {
  "colab": {
   "collapsed_sections": [
    "-QT7lJv_qJ1E"
   ],
   "default_view": {},
   "name": "introduction_to_machine_learning_02_dt.ipynb",
   "provenance": [],
   "toc_visible": true,
   "version": "0.3.2",
   "views": {}
  },
  "kernelspec": {
   "display_name": "Python 3",
   "language": "python",
   "name": "python3"
  },
  "language_info": {
   "codemirror_mode": {
    "name": "ipython",
    "version": 3
   },
   "file_extension": ".py",
   "mimetype": "text/x-python",
   "name": "python",
   "nbconvert_exporter": "python",
   "pygments_lexer": "ipython3",
   "version": "3.6.3"
  }
 },
 "nbformat": 4,
 "nbformat_minor": 2
}
