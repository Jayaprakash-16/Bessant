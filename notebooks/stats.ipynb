{
  "nbformat": 4,
  "nbformat_minor": 0,
  "metadata": {
    "colab": {
      "name": "stats.ipynb",
      "version": "0.3.2",
      "provenance": [],
      "include_colab_link": true
    },
    "kernelspec": {
      "name": "python3",
      "display_name": "Python 3"
    }
  },
  "cells": [
    {
      "cell_type": "markdown",
      "metadata": {
        "id": "view-in-github",
        "colab_type": "text"
      },
      "source": [
        "<a href=\"https://colab.research.google.com/github/HarshaVardhanBabu/TutorialMaterial/blob/master/stats.ipynb\" target=\"_parent\"><img src=\"https://colab.research.google.com/assets/colab-badge.svg\" alt=\"Open In Colab\"/></a>"
      ]
    },
    {
      "cell_type": "code",
      "metadata": {
        "id": "wda7KwNyT6tf",
        "colab_type": "code",
        "colab": {}
      },
      "source": [
        "import numpy as np\n",
        "import pandas as pd\n",
        "import seaborn as sns\n",
        "from scipy import stats\n",
        "from matplotlib import pyplot as plt"
      ],
      "execution_count": 0,
      "outputs": []
    },
    {
      "cell_type": "code",
      "metadata": {
        "id": "Rsl3VGekTljQ",
        "colab_type": "code",
        "colab": {}
      },
      "source": [
        "data = \"\"\"4.5 4.7 5.0 5.0 5.3 5.5 5.5 5.7 5.7 5.7\n",
        "6.0 6.0 6.0 6.0 6.3 6.3 6.3 6.5 6.5 6.5\n",
        "6.7 6.7 6.7 6.7 7.0 7.0 7.0 7.0 7.3 7.3\n",
        "7.3 7.3 7.5 7.5 7.5 7.5 7.7 7.7 7.7 7.7\n",
        "8.0 8.0 8.0 8.0 8.3 8.3 8.3 8.5 8.5 8.5\n",
        "8.5 8.7 8.7 9.0 9.0 9.0 9.3 9.3 10.0\"\"\""
      ],
      "execution_count": 0,
      "outputs": []
    },
    {
      "cell_type": "code",
      "metadata": {
        "id": "ErW1F1uyTteu",
        "colab_type": "code",
        "colab": {}
      },
      "source": [
        "data = data.split()"
      ],
      "execution_count": 0,
      "outputs": []
    },
    {
      "cell_type": "code",
      "metadata": {
        "id": "YzZeL8vTT2aF",
        "colab_type": "code",
        "colab": {}
      },
      "source": [
        "data = np.array(data)"
      ],
      "execution_count": 0,
      "outputs": []
    },
    {
      "cell_type": "code",
      "metadata": {
        "id": "cj_dzqSnT3Ym",
        "colab_type": "code",
        "colab": {}
      },
      "source": [
        "sleeps = pd.Series(data,dtype=np.float)"
      ],
      "execution_count": 0,
      "outputs": []
    },
    {
      "cell_type": "code",
      "metadata": {
        "id": "yaDKQD0iUuRS",
        "colab_type": "code",
        "colab": {
          "base_uri": "https://localhost:8080/",
          "height": 170
        },
        "outputId": "fb389cbb-12c7-4337-d48e-ad85980e9673"
      },
      "source": [
        "sleeps.describe()"
      ],
      "execution_count": 6,
      "outputs": [
        {
          "output_type": "execute_result",
          "data": {
            "text/plain": [
              "count    59.000000\n",
              "mean      7.181356\n",
              "std       1.282438\n",
              "min       4.500000\n",
              "25%       6.300000\n",
              "50%       7.300000\n",
              "75%       8.150000\n",
              "max      10.000000\n",
              "dtype: float64"
            ]
          },
          "metadata": {
            "tags": []
          },
          "execution_count": 6
        }
      ]
    },
    {
      "cell_type": "code",
      "metadata": {
        "id": "OuXgzZXqUvEu",
        "colab_type": "code",
        "colab": {
          "base_uri": "https://localhost:8080/",
          "height": 286
        },
        "outputId": "725d4548-9593-4915-8337-ace1512a3c73"
      },
      "source": [
        "sleeps.hist(bins=10)"
      ],
      "execution_count": 7,
      "outputs": [
        {
          "output_type": "execute_result",
          "data": {
            "text/plain": [
              "<matplotlib.axes._subplots.AxesSubplot at 0x7f33cbdf29e8>"
            ]
          },
          "metadata": {
            "tags": []
          },
          "execution_count": 7
        },
        {
          "output_type": "display_data",
          "data": {
            "image/png": "[encoded data removed]",
            "text/plain": [
              "<Figure size 432x288 with 1 Axes>"
            ]
          },
          "metadata": {
            "tags": []
          }
        }
      ]
    },
    {
      "cell_type": "code",
      "metadata": {
        "id": "hsYhmR3YV3zo",
        "colab_type": "code",
        "colab": {
          "base_uri": "https://localhost:8080/",
          "height": 286
        },
        "outputId": "68b257b2-13d0-48e4-ecce-f371908e7336"
      },
      "source": [
        "sleeps.plot.box()"
      ],
      "execution_count": 8,
      "outputs": [
        {
          "output_type": "execute_result",
          "data": {
            "text/plain": [
              "<matplotlib.axes._subplots.AxesSubplot at 0x7f33cbd49cf8>"
            ]
          },
          "metadata": {
            "tags": []
          },
          "execution_count": 8
        },
        {
          "output_type": "display_data",
          "data": {
            "image/png": "[encoded data removed]",
            "text/plain": [
              "<Figure size 432x288 with 1 Axes>"
            ]
          },
          "metadata": {
            "tags": []
          }
        }
      ]
    },
    {
      "cell_type": "code",
      "metadata": {
        "id": "VsBk4ZdiWe2A",
        "colab_type": "code",
        "colab": {
          "base_uri": "https://localhost:8080/",
          "height": 286
        },
        "outputId": "25014658-cb8c-4650-bfe8-02946b6e1586"
      },
      "source": [
        "sleeps.plot(kind='kde')"
      ],
      "execution_count": 9,
      "outputs": [
        {
          "output_type": "execute_result",
          "data": {
            "text/plain": [
              "<matplotlib.axes._subplots.AxesSubplot at 0x7f33c94677b8>"
            ]
          },
          "metadata": {
            "tags": []
          },
          "execution_count": 9
        },
        {
          "output_type": "display_data",
          "data": {
            "image/png": "[encoded data removed]",
            "text/plain": [
              "<Figure size 432x288 with 1 Axes>"
            ]
          },
          "metadata": {
            "tags": []
          }
        }
      ]
    },
    {
      "cell_type": "code",
      "metadata": {
        "id": "hYVJ8CGSZIF_",
        "colab_type": "code",
        "colab": {}
      },
      "source": [
        "data = np.array([3,5,7,7,8])"
      ],
      "execution_count": 0,
      "outputs": []
    },
    {
      "cell_type": "code",
      "metadata": {
        "id": "dpL0WE3VbEpg",
        "colab_type": "code",
        "colab": {
          "base_uri": "https://localhost:8080/",
          "height": 34
        },
        "outputId": "d19fdcb5-63e7-4c77-fca3-40faa2347f3f"
      },
      "source": [
        "np.var(data),np.var(data,ddof=1)"
      ],
      "execution_count": 11,
      "outputs": [
        {
          "output_type": "execute_result",
          "data": {
            "text/plain": [
              "(3.2, 4.0)"
            ]
          },
          "metadata": {
            "tags": []
          },
          "execution_count": 11
        }
      ]
    },
    {
      "cell_type": "code",
      "metadata": {
        "id": "WsjXxdZbbMqH",
        "colab_type": "code",
        "colab": {
          "base_uri": "https://localhost:8080/",
          "height": 34
        },
        "outputId": "279369d9-5d45-47f0-dcc4-8b0b039d7447"
      },
      "source": [
        "np.std(data),np.std(data,ddof=1)"
      ],
      "execution_count": 12,
      "outputs": [
        {
          "output_type": "execute_result",
          "data": {
            "text/plain": [
              "(1.7888543819998317, 2.0)"
            ]
          },
          "metadata": {
            "tags": []
          },
          "execution_count": 12
        }
      ]
    },
    {
      "cell_type": "code",
      "metadata": {
        "id": "xtPqK4gPcQUx",
        "colab_type": "code",
        "colab": {}
      },
      "source": [
        "z = (data - np.mean(data))/np.std(data,ddof=1)"
      ],
      "execution_count": 0,
      "outputs": []
    },
    {
      "cell_type": "code",
      "metadata": {
        "id": "6nQEV3UNgpEa",
        "colab_type": "code",
        "colab": {
          "base_uri": "https://localhost:8080/",
          "height": 34
        },
        "outputId": "725bcda0-cd15-4d6c-920b-db5a46fab819"
      },
      "source": [
        "z"
      ],
      "execution_count": 14,
      "outputs": [
        {
          "output_type": "execute_result",
          "data": {
            "text/plain": [
              "array([-1.5, -0.5,  0.5,  0.5,  1. ])"
            ]
          },
          "metadata": {
            "tags": []
          },
          "execution_count": 14
        }
      ]
    },
    {
      "cell_type": "code",
      "metadata": {
        "id": "Q_QqhoU4gp3V",
        "colab_type": "code",
        "colab": {}
      },
      "source": [
        "x = np.arange(10)\n",
        "y = 5*x + np.random.randn(10)"
      ],
      "execution_count": 0,
      "outputs": []
    },
    {
      "cell_type": "code",
      "metadata": {
        "id": "03pPVgSCiTIu",
        "colab_type": "code",
        "colab": {}
      },
      "source": [
        "from matplotlib import pyplot as plt"
      ],
      "execution_count": 0,
      "outputs": []
    },
    {
      "cell_type": "code",
      "metadata": {
        "id": "1LZfiY-1jJlx",
        "colab_type": "code",
        "colab": {
          "base_uri": "https://localhost:8080/",
          "height": 286
        },
        "outputId": "34dc043b-ebf8-420b-b5fe-0328e0cabcea"
      },
      "source": [
        "plt.plot(x,y,'o')"
      ],
      "execution_count": 17,
      "outputs": [
        {
          "output_type": "execute_result",
          "data": {
            "text/plain": [
              "[<matplotlib.lines.Line2D at 0x7f33c93faac8>]"
            ]
          },
          "metadata": {
            "tags": []
          },
          "execution_count": 17
        },
        {
          "output_type": "display_data",
          "data": {
            "image/png": "[encoded data removed]",
            "text/plain": [
              "<Figure size 432x288 with 1 Axes>"
            ]
          },
          "metadata": {
            "tags": []
          }
        }
      ]
    },
    {
      "cell_type": "code",
      "metadata": {
        "id": "TK-e_3aIjK-V",
        "colab_type": "code",
        "colab": {}
      },
      "source": [
        "data = np.vstack([x,y])"
      ],
      "execution_count": 0,
      "outputs": []
    },
    {
      "cell_type": "code",
      "metadata": {
        "id": "rZx39ifGjhtx",
        "colab_type": "code",
        "colab": {
          "base_uri": "https://localhost:8080/",
          "height": 34
        },
        "outputId": "ace1e9b8-06ee-42ff-de32-da58fc5d2082"
      },
      "source": [
        "data.shape"
      ],
      "execution_count": 19,
      "outputs": [
        {
          "output_type": "execute_result",
          "data": {
            "text/plain": [
              "(2, 10)"
            ]
          },
          "metadata": {
            "tags": []
          },
          "execution_count": 19
        }
      ]
    },
    {
      "cell_type": "code",
      "metadata": {
        "id": "9yHewLkyjiqL",
        "colab_type": "code",
        "colab": {
          "base_uri": "https://localhost:8080/",
          "height": 51
        },
        "outputId": "21141b2f-136d-4e49-aafb-4971ad84e832"
      },
      "source": [
        "np.cov(data)"
      ],
      "execution_count": 20,
      "outputs": [
        {
          "output_type": "execute_result",
          "data": {
            "text/plain": [
              "array([[  9.16666667,  45.46055872],\n",
              "       [ 45.46055872, 226.00638821]])"
            ]
          },
          "metadata": {
            "tags": []
          },
          "execution_count": 20
        }
      ]
    },
    {
      "cell_type": "code",
      "metadata": {
        "id": "A2cxe1yijlkx",
        "colab_type": "code",
        "colab": {
          "base_uri": "https://localhost:8080/",
          "height": 51
        },
        "outputId": "e14b13d1-57e6-4306-bb8c-4f34a541ae8f"
      },
      "source": [
        "np.corrcoef(data)"
      ],
      "execution_count": 21,
      "outputs": [
        {
          "output_type": "execute_result",
          "data": {
            "text/plain": [
              "array([[1.        , 0.99877737],\n",
              "       [0.99877737, 1.        ]])"
            ]
          },
          "metadata": {
            "tags": []
          },
          "execution_count": 21
        }
      ]
    },
    {
      "cell_type": "code",
      "metadata": {
        "id": "fCfTBInRj2T9",
        "colab_type": "code",
        "colab": {}
      },
      "source": [
        "normal_sample = np.random.randn(10000)"
      ],
      "execution_count": 0,
      "outputs": []
    },
    {
      "cell_type": "code",
      "metadata": {
        "id": "5R3cPBxGJcP7",
        "colab_type": "code",
        "colab": {}
      },
      "source": [
        "def getSampleMeans(x,sample_size,n_samples):\n",
        "  sample =[]\n",
        "  for i in range(n_samples):\n",
        "    sample.append(np.random.choice(x,sample_size))\n",
        "  sample = np.array(sample)\n",
        "  sample_means = np.mean(sample,axis=1)\n",
        "  return sample_means\n"
      ],
      "execution_count": 0,
      "outputs": []
    },
    {
      "cell_type": "code",
      "metadata": {
        "id": "kXwRLvPEKSeS",
        "colab_type": "code",
        "colab": {}
      },
      "source": [
        "sample_100 = getSampleMeans(normal_sample,100,10000)"
      ],
      "execution_count": 0,
      "outputs": []
    },
    {
      "cell_type": "code",
      "metadata": {
        "id": "smC1qQvlKXrS",
        "colab_type": "code",
        "colab": {
          "base_uri": "https://localhost:8080/",
          "height": 34
        },
        "outputId": "b19dab68-ce72-4913-b19a-bc0bc897320c"
      },
      "source": [
        "sample_100.mean(),normal_sample.mean()"
      ],
      "execution_count": 25,
      "outputs": [
        {
          "output_type": "execute_result",
          "data": {
            "text/plain": [
              "(-0.01712075109882178, -0.01617849082224386)"
            ]
          },
          "metadata": {
            "tags": []
          },
          "execution_count": 25
        }
      ]
    },
    {
      "cell_type": "code",
      "metadata": {
        "id": "YOhfuUO8LIIH",
        "colab_type": "code",
        "colab": {
          "base_uri": "https://localhost:8080/",
          "height": 371
        },
        "outputId": "606f67b5-b173-4456-bbb3-0d37e1245baf"
      },
      "source": [
        "plt.hist(sample_100)"
      ],
      "execution_count": 26,
      "outputs": [
        {
          "output_type": "execute_result",
          "data": {
            "text/plain": [
              "(array([  13.,  119.,  629., 1699., 2811., 2708., 1487.,  450.,   75.,\n",
              "           9.]),\n",
              " array([-0.39020953, -0.31411894, -0.23802835, -0.16193776, -0.08584718,\n",
              "        -0.00975659,  0.066334  ,  0.14242459,  0.21851517,  0.29460576,\n",
              "         0.37069635]),\n",
              " <a list of 10 Patch objects>)"
            ]
          },
          "metadata": {
            "tags": []
          },
          "execution_count": 26
        },
        {
          "output_type": "display_data",
          "data": {
            "image/png": "[encoded data removed]",
            "text/plain": [
              "<Figure size 432x288 with 1 Axes>"
            ]
          },
          "metadata": {
            "tags": []
          }
        }
      ]
    },
    {
      "cell_type": "code",
      "metadata": {
        "id": "dZjdpzJ1xEF_",
        "colab_type": "code",
        "colab": {
          "base_uri": "https://localhost:8080/",
          "height": 813
        },
        "outputId": "ad3ba8f7-d6c5-41d5-aee3-204a0c0f221e"
      },
      "source": [
        "fig,ax = plt.subplots(1,1)\n",
        "ax.hist(normal_sample,bins=100,)"
      ],
      "execution_count": 27,
      "outputs": [
        {
          "output_type": "execute_result",
          "data": {
            "text/plain": [
              "(array([  1.,   1.,   2.,   5.,   3.,   1.,   8.,  10.,   8.,   4.,  11.,\n",
              "          7.,  22.,  17.,  15.,  20.,  26.,  36.,  30.,  42.,  51.,  49.,\n",
              "         67.,  58.,  79.,  72., 115., 122., 112., 114., 133., 160., 152.,\n",
              "        153., 206., 199., 213., 233., 236., 244., 264., 267., 272., 322.,\n",
              "        282., 284., 263., 278., 300., 269., 250., 270., 268., 250., 280.,\n",
              "        246., 214., 197., 214., 168., 182., 179., 144., 133., 142., 133.,\n",
              "         96.,  88.,  84.,  82.,  65.,  78.,  52.,  61.,  39.,  42.,  29.,\n",
              "         30.,  25.,  19.,  17.,  21.,  14.,  13.,  13.,   8.,   2.,   2.,\n",
              "          1.,   2.,   4.,   2.,   0.,   0.,   0.,   0.,   0.,   1.,   0.,\n",
              "          2.]),\n",
              " array([-3.34985986, -3.27912904, -3.20839823, -3.13766741, -3.06693659,\n",
              "        -2.99620578, -2.92547496, -2.85474414, -2.78401333, -2.71328251,\n",
              "        -2.64255169, -2.57182088, -2.50109006, -2.43035924, -2.35962843,\n",
              "        -2.28889761, -2.21816679, -2.14743598, -2.07670516, -2.00597434,\n",
              "        -1.93524353, -1.86451271, -1.79378189, -1.72305108, -1.65232026,\n",
              "        -1.58158944, -1.51085863, -1.44012781, -1.36939699, -1.29866618,\n",
              "        -1.22793536, -1.15720454, -1.08647373, -1.01574291, -0.94501209,\n",
              "        -0.87428128, -0.80355046, -0.73281964, -0.66208883, -0.59135801,\n",
              "        -0.52062719, -0.44989638, -0.37916556, -0.30843474, -0.23770393,\n",
              "        -0.16697311, -0.09624229, -0.02551148,  0.04521934,  0.11595016,\n",
              "         0.18668097,  0.25741179,  0.32814261,  0.39887342,  0.46960424,\n",
              "         0.54033506,  0.61106587,  0.68179669,  0.75252751,  0.82325832,\n",
              "         0.89398914,  0.96471996,  1.03545077,  1.10618159,  1.17691241,\n",
              "         1.24764323,  1.31837404,  1.38910486,  1.45983568,  1.53056649,\n",
              "         1.60129731,  1.67202813,  1.74275894,  1.81348976,  1.88422058,\n",
              "         1.95495139,  2.02568221,  2.09641303,  2.16714384,  2.23787466,\n",
              "         2.30860548,  2.37933629,  2.45006711,  2.52079793,  2.59152874,\n",
              "         2.66225956,  2.73299038,  2.80372119,  2.87445201,  2.94518283,\n",
              "         3.01591364,  3.08664446,  3.15737528,  3.22810609,  3.29883691,\n",
              "         3.36956773,  3.44029854,  3.51102936,  3.58176018,  3.65249099,\n",
              "         3.72322181]),\n",
              " <a list of 100 Patch objects>)"
            ]
          },
          "metadata": {
            "tags": []
          },
          "execution_count": 27
        },
        {
          "output_type": "display_data",
          "data": {
            "image/png": "[encoded data removed]",
            "text/plain": [
              "<Figure size 432x288 with 1 Axes>"
            ]
          },
          "metadata": {
            "tags": []
          }
        }
      ]
    },
    {
      "cell_type": "code",
      "metadata": {
        "id": "EW7DQpbVxILI",
        "colab_type": "code",
        "colab": {
          "base_uri": "https://localhost:8080/",
          "height": 286
        },
        "outputId": "4957df2a-c514-46d2-a66b-508829e8c360"
      },
      "source": [
        "sns.distplot(normal_sample)"
      ],
      "execution_count": 28,
      "outputs": [
        {
          "output_type": "execute_result",
          "data": {
            "text/plain": [
              "<matplotlib.axes._subplots.AxesSubplot at 0x7f33c92ce6d8>"
            ]
          },
          "metadata": {
            "tags": []
          },
          "execution_count": 28
        },
        {
          "output_type": "display_data",
          "data": {
            "image/png": "[encoded data removed]",
            "text/plain": [
              "<Figure size 432x288 with 1 Axes>"
            ]
          },
          "metadata": {
            "tags": []
          }
        }
      ]
    },
    {
      "cell_type": "code",
      "metadata": {
        "id": "NMMSVs33yM8P",
        "colab_type": "code",
        "colab": {}
      },
      "source": [
        ""
      ],
      "execution_count": 0,
      "outputs": []
    },
    {
      "cell_type": "code",
      "metadata": {
        "id": "PIO4vjm95kJt",
        "colab_type": "code",
        "colab": {
          "base_uri": "https://localhost:8080/",
          "height": 34
        },
        "outputId": "5118faed-a9e0-4f5b-c914-4b8c1161a888"
      },
      "source": [
        "stats.norm().cdf(1.37)# P(Z<=z) # area to the left of the z in the distrubution"
      ],
      "execution_count": 29,
      "outputs": [
        {
          "output_type": "execute_result",
          "data": {
            "text/plain": [
              "0.914656549178033"
            ]
          },
          "metadata": {
            "tags": []
          },
          "execution_count": 29
        }
      ]
    },
    {
      "cell_type": "code",
      "metadata": {
        "id": "2_DLlwXo5oJa",
        "colab_type": "code",
        "colab": {
          "base_uri": "https://localhost:8080/",
          "height": 34
        },
        "outputId": "36a46641-7541-4324-9108-3c3c2b0d6f6f"
      },
      "source": [
        "stats.norm().ppf(0.5) # P(Z<=z) = a finds z given a"
      ],
      "execution_count": 30,
      "outputs": [
        {
          "output_type": "execute_result",
          "data": {
            "text/plain": [
              "0.0"
            ]
          },
          "metadata": {
            "tags": []
          },
          "execution_count": 30
        }
      ]
    },
    {
      "cell_type": "code",
      "metadata": {
        "id": "0mn-Aym064-3",
        "colab_type": "code",
        "colab": {
          "base_uri": "https://localhost:8080/",
          "height": 34
        },
        "outputId": "5abd0cb5-d3f1-400d-c581-7d5d720b9a61"
      },
      "source": [
        "stats.norm().cdf(1.6) - stats.norm().cdf(-.155)"
      ],
      "execution_count": 31,
      "outputs": [
        {
          "output_type": "execute_result",
          "data": {
            "text/plain": [
              "0.5067900496476889"
            ]
          },
          "metadata": {
            "tags": []
          },
          "execution_count": 31
        }
      ]
    },
    {
      "cell_type": "code",
      "metadata": {
        "id": "cVDDrWCr70zC",
        "colab_type": "code",
        "colab": {
          "base_uri": "https://localhost:8080/",
          "height": 34
        },
        "outputId": "5058fafa-f42f-4789-e395-d5005ca4a1ea"
      },
      "source": [
        "stats.norm().ppf(1-0.025)"
      ],
      "execution_count": 32,
      "outputs": [
        {
          "output_type": "execute_result",
          "data": {
            "text/plain": [
              "1.959963984540054"
            ]
          },
          "metadata": {
            "tags": []
          },
          "execution_count": 32
        }
      ]
    },
    {
      "cell_type": "code",
      "metadata": {
        "id": "GCesCenf8XTh",
        "colab_type": "code",
        "colab": {}
      },
      "source": [
        "madison_fire = pd.Series(np.array(\"\"\"425 389 380 421 438 331 368 417 403 416 385 315\n",
        "427 417 386 386 378 300 321 286 269 225 268 317\n",
        "287 256 334 342 269 226 291 280 221 283 302 308\n",
        "296 266 238 286 317 276 254 278 247 336 296 259\n",
        "270 302 281 228 317 312 327 288 395 240 264 246\n",
        "294 254 222 285 254 264 277 266 228 347 322 232\n",
        "365 356 261 293 354 236 285 303 275 403 268 250\n",
        "279 400 370 399 438 287 363 350 278 278 234 266\n",
        "319 276 291 352 313 262 289 273 317 328 292 279\n",
        "289 312 334 294 297 304 240 303 255 305 252 286\n",
        "297 353 350 276 333 285 317 296 276 247 339 328\n",
        "267 305 291 269 386 264 299 261 284 302 342 304\n",
        "336 291 294 323 320 289 339 292 373 410 257 406\n",
        "374 268\"\"\".split(),dtype=np.float))\n"
      ],
      "execution_count": 0,
      "outputs": []
    },
    {
      "cell_type": "code",
      "metadata": {
        "id": "wu1LDXNn-zUD",
        "colab_type": "code",
        "colab": {
          "base_uri": "https://localhost:8080/",
          "height": 170
        },
        "outputId": "a14c52cf-c8bc-40ab-b1da-9f75b0af84ed"
      },
      "source": [
        "madison_fire.describe()"
      ],
      "execution_count": 34,
      "outputs": [
        {
          "output_type": "execute_result",
          "data": {
            "text/plain": [
              "count    158.000000\n",
              "mean     307.765823\n",
              "std       51.851720\n",
              "min      221.000000\n",
              "25%      269.250000\n",
              "50%      295.000000\n",
              "75%      336.000000\n",
              "max      438.000000\n",
              "dtype: float64"
            ]
          },
          "metadata": {
            "tags": []
          },
          "execution_count": 34
        }
      ]
    },
    {
      "cell_type": "code",
      "metadata": {
        "id": "hLnHtcgQ_Al0",
        "colab_type": "code",
        "colab": {
          "base_uri": "https://localhost:8080/",
          "height": 34
        },
        "outputId": "d529b959-5d6b-4fe5-a105-e86b159d0332"
      },
      "source": [
        "stats.norm.interval(0.95,loc=307.765823,scale=52.851720/np.sqrt(158))"
      ],
      "execution_count": 35,
      "outputs": [
        {
          "output_type": "execute_result",
          "data": {
            "text/plain": [
              "(299.5248465505244, 316.00679944947564)"
            ]
          },
          "metadata": {
            "tags": []
          },
          "execution_count": 35
        }
      ]
    },
    {
      "cell_type": "code",
      "metadata": {
        "id": "_r8arE-w_pYf",
        "colab_type": "code",
        "colab": {}
      },
      "source": [
        ""
      ],
      "execution_count": 0,
      "outputs": []
    },
    {
      "cell_type": "code",
      "metadata": {
        "id": "Z2689y9mAD3b",
        "colab_type": "code",
        "colab": {}
      },
      "source": [
        "# the automated teller machine transaction times, suppose that, from\n",
        "# the measurements of a random sample of 38 transaction times, the sample\n",
        "# mean and standard deviation are found to be 261 and 22 seconds, respectively\n",
        "# Test the null hypothesis versus using a 2.5% level\n",
        "# of significance and state whether or not the claim m 270 is substantiated."
      ],
      "execution_count": 0,
      "outputs": []
    },
    {
      "cell_type": "code",
      "metadata": {
        "id": "6p9WP0HHO5qz",
        "colab_type": "code",
        "colab": {}
      },
      "source": [
        "loc = 261\n",
        "scale = 22/np.sqrt(38)\n",
        "mu = 270"
      ],
      "execution_count": 0,
      "outputs": []
    },
    {
      "cell_type": "code",
      "metadata": {
        "id": "JLQ1lGJcPAWT",
        "colab_type": "code",
        "colab": {}
      },
      "source": [
        "z = (loc - mu)/scale"
      ],
      "execution_count": 0,
      "outputs": []
    },
    {
      "cell_type": "code",
      "metadata": {
        "id": "hjwBlkA2QbHV",
        "colab_type": "code",
        "colab": {
          "base_uri": "https://localhost:8080/",
          "height": 34
        },
        "outputId": "e571b844-728c-431b-96a6-66077dd3b76e"
      },
      "source": [
        "z"
      ],
      "execution_count": 41,
      "outputs": [
        {
          "output_type": "execute_result",
          "data": {
            "text/plain": [
              "-2.5218057284873083"
            ]
          },
          "metadata": {
            "tags": []
          },
          "execution_count": 41
        }
      ]
    },
    {
      "cell_type": "code",
      "metadata": {
        "id": "_SstztOYQdp6",
        "colab_type": "code",
        "colab": {}
      },
      "source": [
        "c = 0.025\n",
        "zc = stats.norm.ppf(c)"
      ],
      "execution_count": 0,
      "outputs": []
    },
    {
      "cell_type": "code",
      "metadata": {
        "id": "LHiqvfpnRfE0",
        "colab_type": "code",
        "colab": {
          "base_uri": "https://localhost:8080/",
          "height": 34
        },
        "outputId": "1b81766c-c803-43be-96e7-4cc391767a73"
      },
      "source": [
        "zc"
      ],
      "execution_count": 43,
      "outputs": [
        {
          "output_type": "execute_result",
          "data": {
            "text/plain": [
              "-1.9599639845400545"
            ]
          },
          "metadata": {
            "tags": []
          },
          "execution_count": 43
        }
      ]
    },
    {
      "cell_type": "code",
      "metadata": {
        "id": "jsVedlEzRfnv",
        "colab_type": "code",
        "colab": {
          "base_uri": "https://localhost:8080/",
          "height": 286
        },
        "outputId": "f0c4854f-b400-4c05-842e-2d5510e82770"
      },
      "source": [
        "fig,ax = plt.subplots(1,1)\n",
        "ax.hist(normal_sample,bins=100)\n",
        "ax.axvline(z)\n",
        "ax.axvline(zc,marker=\"*\",color='r')"
      ],
      "execution_count": 44,
      "outputs": [
        {
          "output_type": "execute_result",
          "data": {
            "text/plain": [
              "<matplotlib.lines.Line2D at 0x7f33c9158b38>"
            ]
          },
          "metadata": {
            "tags": []
          },
          "execution_count": 44
        },
        {
          "output_type": "display_data",
          "data": {
            "image/png": "[encoded data removed]",
            "text/plain": [
              "<Figure size 432x288 with 1 Axes>"
            ]
          },
          "metadata": {
            "tags": []
          }
        }
      ]
    },
    {
      "cell_type": "code",
      "metadata": {
        "id": "ILB5czCobhmU",
        "colab_type": "code",
        "colab": {
          "base_uri": "https://localhost:8080/",
          "height": 34
        },
        "outputId": "4f264296-e369-42d2-8c37-d3fe12818d6a"
      },
      "source": [
        "stats.norm.cdf(z)"
      ],
      "execution_count": 45,
      "outputs": [
        {
          "output_type": "execute_result",
          "data": {
            "text/plain": [
              "0.0058377084397736485"
            ]
          },
          "metadata": {
            "tags": []
          },
          "execution_count": 45
        }
      ]
    },
    {
      "cell_type": "code",
      "metadata": {
        "id": "rckqALVLc4s9",
        "colab_type": "code",
        "colab": {}
      },
      "source": [
        "# A brochure inviting subscriptions for a new diet program states that the participants are expected to lose over 22 pounds in five weeks. Suppose that, from\n",
        "# the data of the five-week weight losses of 56 participants, the sample mean and\n",
        "# standard deviation are found to be 23.5 and 10.2 pounds, respectively. Could\n",
        "# the statement in the brochure be substantiated on the basis of these findings?\n",
        "# Test with a \u0001 alpha = .05. Also calculate the P–value and interpret the result."
      ],
      "execution_count": 0,
      "outputs": []
    },
    {
      "cell_type": "code",
      "metadata": {
        "id": "0Ymlpj-6dL8n",
        "colab_type": "code",
        "colab": {}
      },
      "source": [
        "n = 56\n",
        "xbar = 23.5\n",
        "s = 10.2\n",
        "scale = s/np.sqrt(n)\n",
        "loc = xbar\n",
        "z = (loc - 22)/scale"
      ],
      "execution_count": 0,
      "outputs": []
    },
    {
      "cell_type": "code",
      "metadata": {
        "id": "V6tACX0VegI2",
        "colab_type": "code",
        "colab": {
          "base_uri": "https://localhost:8080/",
          "height": 34
        },
        "outputId": "49eab234-4efb-4445-903a-64b167b2bfee"
      },
      "source": [
        "z"
      ],
      "execution_count": 48,
      "outputs": [
        {
          "output_type": "execute_result",
          "data": {
            "text/plain": [
              "1.100487466698218"
            ]
          },
          "metadata": {
            "tags": []
          },
          "execution_count": 48
        }
      ]
    },
    {
      "cell_type": "code",
      "metadata": {
        "id": "_I3w8E-qeg0g",
        "colab_type": "code",
        "colab": {}
      },
      "source": [
        "zc = stats.norm.ppf(1-0.05)"
      ],
      "execution_count": 0,
      "outputs": []
    },
    {
      "cell_type": "code",
      "metadata": {
        "id": "7EO6tyCyfIPi",
        "colab_type": "code",
        "colab": {
          "base_uri": "https://localhost:8080/",
          "height": 34
        },
        "outputId": "b4556d64-ca23-4f13-941d-8b9b93c689ce"
      },
      "source": [
        "zc"
      ],
      "execution_count": 50,
      "outputs": [
        {
          "output_type": "execute_result",
          "data": {
            "text/plain": [
              "1.6448536269514722"
            ]
          },
          "metadata": {
            "tags": []
          },
          "execution_count": 50
        }
      ]
    },
    {
      "cell_type": "code",
      "metadata": {
        "id": "ux4uOwAcfI5L",
        "colab_type": "code",
        "colab": {
          "base_uri": "https://localhost:8080/",
          "height": 34
        },
        "outputId": "c4d3d359-7865-41a6-de38-cb97dd1f353f"
      },
      "source": [
        "1-stats.norm.cdf(z)"
      ],
      "execution_count": 51,
      "outputs": [
        {
          "output_type": "execute_result",
          "data": {
            "text/plain": [
              "0.13555989373583288"
            ]
          },
          "metadata": {
            "tags": []
          },
          "execution_count": 51
        }
      ]
    },
    {
      "cell_type": "code",
      "metadata": {
        "id": "nZzRH-ivfYsB",
        "colab_type": "code",
        "colab": {
          "base_uri": "https://localhost:8080/",
          "height": 34
        },
        "outputId": "85e87fad-fb98-42d7-c4f4-b4a4df2b2ea5"
      },
      "source": [
        "stats.t.cdf(0.5,df=19)"
      ],
      "execution_count": 52,
      "outputs": [
        {
          "output_type": "execute_result",
          "data": {
            "text/plain": [
              "0.6885917543567792"
            ]
          },
          "metadata": {
            "tags": []
          },
          "execution_count": 52
        }
      ]
    },
    {
      "cell_type": "code",
      "metadata": {
        "id": "DMoEN-cIivrh",
        "colab_type": "code",
        "colab": {}
      },
      "source": [
        "## Students T test"
      ],
      "execution_count": 0,
      "outputs": []
    },
    {
      "cell_type": "code",
      "metadata": {
        "id": "7kmKwIiOjFJ2",
        "colab_type": "code",
        "colab": {}
      },
      "source": [
        "data = np.array(\"\"\"175 190 205 193 184\n",
        "207 204 193 196 180\"\"\".split(),dtype=float)"
      ],
      "execution_count": 0,
      "outputs": []
    },
    {
      "cell_type": "code",
      "metadata": {
        "id": "9IxnkfI_jMEP",
        "colab_type": "code",
        "colab": {}
      },
      "source": [
        "xbar,s = data.mean(),data.std(ddof=1)"
      ],
      "execution_count": 0,
      "outputs": []
    },
    {
      "cell_type": "code",
      "metadata": {
        "id": "PQV0PdDBjMsr",
        "colab_type": "code",
        "colab": {}
      },
      "source": [
        "n = data.shape[0]"
      ],
      "execution_count": 0,
      "outputs": []
    },
    {
      "cell_type": "code",
      "metadata": {
        "id": "DMpOKD_pjbi0",
        "colab_type": "code",
        "colab": {
          "base_uri": "https://localhost:8080/",
          "height": 34
        },
        "outputId": "e6b443d4-f0cb-41b1-a12c-56fd72006890"
      },
      "source": [
        "n"
      ],
      "execution_count": 57,
      "outputs": [
        {
          "output_type": "execute_result",
          "data": {
            "text/plain": [
              "10"
            ]
          },
          "metadata": {
            "tags": []
          },
          "execution_count": 57
        }
      ]
    },
    {
      "cell_type": "code",
      "metadata": {
        "id": "E6cMQ6yOjjUD",
        "colab_type": "code",
        "colab": {}
      },
      "source": [
        "t = (xbar - 200)/(s/np.sqrt(n))"
      ],
      "execution_count": 0,
      "outputs": []
    },
    {
      "cell_type": "code",
      "metadata": {
        "id": "6g72i1z9j_3g",
        "colab_type": "code",
        "colab": {
          "base_uri": "https://localhost:8080/",
          "height": 34
        },
        "outputId": "8ecef0fe-d69d-45c0-bcc9-22771c255d04"
      },
      "source": [
        "t"
      ],
      "execution_count": 59,
      "outputs": [
        {
          "output_type": "execute_result",
          "data": {
            "text/plain": [
              "-2.135087139095554"
            ]
          },
          "metadata": {
            "tags": []
          },
          "execution_count": 59
        }
      ]
    },
    {
      "cell_type": "code",
      "metadata": {
        "id": "q-cA5MANkAXV",
        "colab_type": "code",
        "colab": {}
      },
      "source": [
        "tc = stats.t.ppf(0.05,df=n-1)"
      ],
      "execution_count": 0,
      "outputs": []
    },
    {
      "cell_type": "code",
      "metadata": {
        "id": "-uEunNBTkPS_",
        "colab_type": "code",
        "colab": {
          "base_uri": "https://localhost:8080/",
          "height": 34
        },
        "outputId": "1c256b29-4240-4bbb-9acc-4155b9bf1e05"
      },
      "source": [
        "tc"
      ],
      "execution_count": 61,
      "outputs": [
        {
          "output_type": "execute_result",
          "data": {
            "text/plain": [
              "-1.8331129326536337"
            ]
          },
          "metadata": {
            "tags": []
          },
          "execution_count": 61
        }
      ]
    },
    {
      "cell_type": "code",
      "metadata": {
        "id": "xWKhnP9tkbPB",
        "colab_type": "code",
        "colab": {}
      },
      "source": [
        "pval = stats.t.cdf(t,df=n-1)"
      ],
      "execution_count": 0,
      "outputs": []
    },
    {
      "cell_type": "code",
      "metadata": {
        "id": "ZIVVcebIkplw",
        "colab_type": "code",
        "colab": {
          "base_uri": "https://localhost:8080/",
          "height": 34
        },
        "outputId": "0c0eb4ff-b3c7-424f-ba3d-4869e2d4dfa7"
      },
      "source": [
        "pval"
      ],
      "execution_count": 63,
      "outputs": [
        {
          "output_type": "execute_result",
          "data": {
            "text/plain": [
              "0.030755340818943256"
            ]
          },
          "metadata": {
            "tags": []
          },
          "execution_count": 63
        }
      ]
    },
    {
      "cell_type": "code",
      "metadata": {
        "id": "1_ptNno9kqDp",
        "colab_type": "code",
        "colab": {}
      },
      "source": [
        "data = \"\"\"3 9\n",
        "3 5\n",
        "4 12\n",
        "5 9\n",
        "6 14\n",
        "6 16\n",
        "7 22\n",
        "8 18\n",
        "8 24\n",
        "9 22\"\"\".split()"
      ],
      "execution_count": 0,
      "outputs": []
    },
    {
      "cell_type": "code",
      "metadata": {
        "id": "osLgt7M9PTYr",
        "colab_type": "code",
        "colab": {}
      },
      "source": [
        "data = [(x,y) for x,y in zip(data[::2],data[1::2])]"
      ],
      "execution_count": 0,
      "outputs": []
    },
    {
      "cell_type": "code",
      "metadata": {
        "id": "6ET4Evo8PURp",
        "colab_type": "code",
        "colab": {}
      },
      "source": [
        "data = np.array(data,dtype=np.float)"
      ],
      "execution_count": 0,
      "outputs": []
    },
    {
      "cell_type": "code",
      "metadata": {
        "id": "8BaOa5mnQFJC",
        "colab_type": "code",
        "colab": {
          "base_uri": "https://localhost:8080/",
          "height": 187
        },
        "outputId": "affeee9e-5a0a-4110-886f-9699e17b6c21"
      },
      "source": [
        "data"
      ],
      "execution_count": 67,
      "outputs": [
        {
          "output_type": "execute_result",
          "data": {
            "text/plain": [
              "array([[ 3.,  9.],\n",
              "       [ 3.,  5.],\n",
              "       [ 4., 12.],\n",
              "       [ 5.,  9.],\n",
              "       [ 6., 14.],\n",
              "       [ 6., 16.],\n",
              "       [ 7., 22.],\n",
              "       [ 8., 18.],\n",
              "       [ 8., 24.],\n",
              "       [ 9., 22.]])"
            ]
          },
          "metadata": {
            "tags": []
          },
          "execution_count": 67
        }
      ]
    },
    {
      "cell_type": "code",
      "metadata": {
        "id": "-0HUlymjQRPh",
        "colab_type": "code",
        "colab": {
          "base_uri": "https://localhost:8080/",
          "height": 286
        },
        "outputId": "bdcef77e-683f-4ae0-cbb5-f74965727ecd"
      },
      "source": [
        "plt.plot(data[:,0],data[:,1],\"o\")"
      ],
      "execution_count": 68,
      "outputs": [
        {
          "output_type": "execute_result",
          "data": {
            "text/plain": [
              "[<matplotlib.lines.Line2D at 0x7f33c8fc6e48>]"
            ]
          },
          "metadata": {
            "tags": []
          },
          "execution_count": 68
        },
        {
          "output_type": "display_data",
          "data": {
            "image/png": "[encoded data removed]",
            "text/plain": [
              "<Figure size 432x288 with 1 Axes>"
            ]
          },
          "metadata": {
            "tags": []
          }
        }
      ]
    },
    {
      "cell_type": "code",
      "metadata": {
        "id": "NBsbcOoKQeHv",
        "colab_type": "code",
        "colab": {
          "base_uri": "https://localhost:8080/",
          "height": 51
        },
        "outputId": "0b19ec5a-bb3b-4340-a95f-b6f40d2bdaac"
      },
      "source": [
        "np.corrcoef(data[:,0],data[:,1])"
      ],
      "execution_count": 69,
      "outputs": [
        {
          "output_type": "execute_result",
          "data": {
            "text/plain": [
              "array([[1.        , 0.91015538],\n",
              "       [0.91015538, 1.        ]])"
            ]
          },
          "metadata": {
            "tags": []
          },
          "execution_count": 69
        }
      ]
    },
    {
      "cell_type": "code",
      "metadata": {
        "id": "L516kIKEQo1N",
        "colab_type": "code",
        "colab": {}
      },
      "source": [
        "from sklearn import preprocessing"
      ],
      "execution_count": 0,
      "outputs": []
    },
    {
      "cell_type": "code",
      "metadata": {
        "id": "jDFa6Y46TTVL",
        "colab_type": "code",
        "colab": {}
      },
      "source": [
        "X = data[:,0]\n",
        "X_scale = preprocessing.scale(X)"
      ],
      "execution_count": 0,
      "outputs": []
    },
    {
      "cell_type": "code",
      "metadata": {
        "id": "HvAsKCW-TwjD",
        "colab_type": "code",
        "colab": {
          "base_uri": "https://localhost:8080/",
          "height": 170
        },
        "outputId": "f2e7ec25-2367-4be1-d881-764151bc4260"
      },
      "source": [
        "pd.Series(X).describe()"
      ],
      "execution_count": 72,
      "outputs": [
        {
          "output_type": "execute_result",
          "data": {
            "text/plain": [
              "count    10.00000\n",
              "mean      5.90000\n",
              "std       2.13177\n",
              "min       3.00000\n",
              "25%       4.25000\n",
              "50%       6.00000\n",
              "75%       7.75000\n",
              "max       9.00000\n",
              "dtype: float64"
            ]
          },
          "metadata": {
            "tags": []
          },
          "execution_count": 72
        }
      ]
    },
    {
      "cell_type": "code",
      "metadata": {
        "id": "vSdPWdgZTzXC",
        "colab_type": "code",
        "colab": {
          "base_uri": "https://localhost:8080/",
          "height": 170
        },
        "outputId": "528d086c-e33c-4903-8b48-f47b300c8633"
      },
      "source": [
        "pd.Series(X_scale).describe()"
      ],
      "execution_count": 73,
      "outputs": [
        {
          "output_type": "execute_result",
          "data": {
            "text/plain": [
              "count    1.000000e+01\n",
              "mean    -1.110223e-16\n",
              "std      1.054093e+00\n",
              "min     -1.433958e+00\n",
              "25%     -8.158725e-01\n",
              "50%      4.944682e-02\n",
              "75%      9.147661e-01\n",
              "max      1.532851e+00\n",
              "dtype: float64"
            ]
          },
          "metadata": {
            "tags": []
          },
          "execution_count": 73
        }
      ]
    },
    {
      "cell_type": "code",
      "metadata": {
        "id": "LYvxQuNfT-Uw",
        "colab_type": "code",
        "colab": {
          "base_uri": "https://localhost:8080/",
          "height": 34
        },
        "outputId": "a198d60e-2a59-47ea-854f-457f6a8ca0a8"
      },
      "source": [
        "X_scale.std(ddof=1)"
      ],
      "execution_count": 74,
      "outputs": [
        {
          "output_type": "execute_result",
          "data": {
            "text/plain": [
              "1.0540925533894598"
            ]
          },
          "metadata": {
            "tags": []
          },
          "execution_count": 74
        }
      ]
    },
    {
      "cell_type": "code",
      "metadata": {
        "id": "zxahIFS_UHOk",
        "colab_type": "code",
        "colab": {}
      },
      "source": [
        "from sklearn.linear_model import LinearRegression"
      ],
      "execution_count": 0,
      "outputs": []
    },
    {
      "cell_type": "code",
      "metadata": {
        "id": "_XIvlw3kabWm",
        "colab_type": "code",
        "colab": {
          "base_uri": "https://localhost:8080/",
          "height": 34
        },
        "outputId": "82f73a61-ae4e-49ea-c310-1470a88352a9"
      },
      "source": [
        "X.shape"
      ],
      "execution_count": 76,
      "outputs": [
        {
          "output_type": "execute_result",
          "data": {
            "text/plain": [
              "(10,)"
            ]
          },
          "metadata": {
            "tags": []
          },
          "execution_count": 76
        }
      ]
    },
    {
      "cell_type": "code",
      "metadata": {
        "id": "PpM2UevUaHjZ",
        "colab_type": "code",
        "colab": {
          "base_uri": "https://localhost:8080/",
          "height": 34
        },
        "outputId": "653371ed-e1bf-4eaa-a903-a9be1dbf9dae"
      },
      "source": [
        "model = LinearRegression()\n",
        "model.fit(X.reshape(-1,1),data[:,1])"
      ],
      "execution_count": 77,
      "outputs": [
        {
          "output_type": "execute_result",
          "data": {
            "text/plain": [
              "LinearRegression(copy_X=True, fit_intercept=True, n_jobs=None, normalize=False)"
            ]
          },
          "metadata": {
            "tags": []
          },
          "execution_count": 77
        }
      ]
    },
    {
      "cell_type": "code",
      "metadata": {
        "id": "m3z4Qx6caRrp",
        "colab_type": "code",
        "colab": {}
      },
      "source": [
        "ypred = model.predict(X.reshape(-1,1))"
      ],
      "execution_count": 0,
      "outputs": []
    },
    {
      "cell_type": "code",
      "metadata": {
        "id": "QjKrmhgrDnTJ",
        "colab_type": "code",
        "colab": {
          "base_uri": "https://localhost:8080/",
          "height": 34
        },
        "outputId": "e6554b27-43a0-498f-a632-10efe4493801"
      },
      "source": [
        "model.coef_,model.intercept_"
      ],
      "execution_count": 92,
      "outputs": [
        {
          "output_type": "execute_result",
          "data": {
            "text/plain": [
              "(array([2.7408313]), -1.0709046454767783)"
            ]
          },
          "metadata": {
            "tags": []
          },
          "execution_count": 92
        }
      ]
    },
    {
      "cell_type": "code",
      "metadata": {
        "id": "jXegxg3dao5D",
        "colab_type": "code",
        "colab": {
          "base_uri": "https://localhost:8080/",
          "height": 286
        },
        "outputId": "aff53fba-0817-43d9-dee5-f9581b8aee78"
      },
      "source": [
        "plt.plot(ypred,data[:,1],\"o\")"
      ],
      "execution_count": 79,
      "outputs": [
        {
          "output_type": "execute_result",
          "data": {
            "text/plain": [
              "[<matplotlib.lines.Line2D at 0x7f33c57f6048>]"
            ]
          },
          "metadata": {
            "tags": []
          },
          "execution_count": 79
        },
        {
          "output_type": "display_data",
          "data": {
            "image/png": "[encoded data removed]",
            "text/plain": [
              "<Figure size 432x288 with 1 Axes>"
            ]
          },
          "metadata": {
            "tags": []
          }
        }
      ]
    },
    {
      "cell_type": "code",
      "metadata": {
        "id": "jM2WYU87a5Ja",
        "colab_type": "code",
        "colab": {
          "base_uri": "https://localhost:8080/",
          "height": 34
        },
        "outputId": "07f9b1ce-8e26-42ea-9166-3c15ec8f0d39"
      },
      "source": [
        "model.score(X.reshape(-1,1),data[:,1])"
      ],
      "execution_count": 80,
      "outputs": [
        {
          "output_type": "execute_result",
          "data": {
            "text/plain": [
              "0.8283828208791013"
            ]
          },
          "metadata": {
            "tags": []
          },
          "execution_count": 80
        }
      ]
    },
    {
      "cell_type": "code",
      "metadata": {
        "id": "3JHYEgwpa_2P",
        "colab_type": "code",
        "colab": {
          "base_uri": "https://localhost:8080/",
          "height": 34
        },
        "outputId": "eb148a82-7686-493a-912d-974f719bccdd"
      },
      "source": [
        "from sklearn.datasets import load_boston\n",
        "boston = load_boston()\n",
        "print(boston.data.shape)"
      ],
      "execution_count": 81,
      "outputs": [
        {
          "output_type": "stream",
          "text": [
            "(506, 13)\n"
          ],
          "name": "stdout"
        }
      ]
    },
    {
      "cell_type": "code",
      "metadata": {
        "id": "1zjdcchPMLmb",
        "colab_type": "code",
        "colab": {}
      },
      "source": [
        "X = boston.data\n",
        "Y = boston.target"
      ],
      "execution_count": 0,
      "outputs": []
    },
    {
      "cell_type": "code",
      "metadata": {
        "id": "Y3IPRhGwMRk7",
        "colab_type": "code",
        "colab": {
          "base_uri": "https://localhost:8080/",
          "height": 34
        },
        "outputId": "07157b52-0bea-4e09-daf2-3763e6f673bc"
      },
      "source": [
        "X.shape,Y.shape"
      ],
      "execution_count": 83,
      "outputs": [
        {
          "output_type": "execute_result",
          "data": {
            "text/plain": [
              "((506, 13), (506,))"
            ]
          },
          "metadata": {
            "tags": []
          },
          "execution_count": 83
        }
      ]
    },
    {
      "cell_type": "code",
      "metadata": {
        "id": "3UqnRyeAMUa8",
        "colab_type": "code",
        "colab": {
          "base_uri": "https://localhost:8080/",
          "height": 51
        },
        "outputId": "65012402-4da4-404e-e4ff-ff2c80da5d7c"
      },
      "source": [
        "boston.feature_names"
      ],
      "execution_count": 84,
      "outputs": [
        {
          "output_type": "execute_result",
          "data": {
            "text/plain": [
              "array(['CRIM', 'ZN', 'INDUS', 'CHAS', 'NOX', 'RM', 'AGE', 'DIS', 'RAD',\n",
              "       'TAX', 'PTRATIO', 'B', 'LSTAT'], dtype='<U7')"
            ]
          },
          "metadata": {
            "tags": []
          },
          "execution_count": 84
        }
      ]
    },
    {
      "cell_type": "code",
      "metadata": {
        "id": "6p5RqSxIMYCJ",
        "colab_type": "code",
        "colab": {}
      },
      "source": [
        "import statsmodels.api as sm"
      ],
      "execution_count": 0,
      "outputs": []
    },
    {
      "cell_type": "code",
      "metadata": {
        "id": "0pcNJRbHNVYR",
        "colab_type": "code",
        "colab": {
          "base_uri": "https://localhost:8080/",
          "height": 34
        },
        "outputId": "fc8edcb2-8b6f-4998-abff-14ac0698ba46"
      },
      "source": [
        "X.shape,Y.shape"
      ],
      "execution_count": 86,
      "outputs": [
        {
          "output_type": "execute_result",
          "data": {
            "text/plain": [
              "((506, 13), (506,))"
            ]
          },
          "metadata": {
            "tags": []
          },
          "execution_count": 86
        }
      ]
    },
    {
      "cell_type": "code",
      "metadata": {
        "id": "1kPvlrg1MjfJ",
        "colab_type": "code",
        "colab": {}
      },
      "source": [
        "res = sm.OLS(Y,X).fit()"
      ],
      "execution_count": 0,
      "outputs": []
    },
    {
      "cell_type": "code",
      "metadata": {
        "id": "9ugkvYqYM2op",
        "colab_type": "code",
        "colab": {
          "base_uri": "https://localhost:8080/",
          "height": 709
        },
        "outputId": "77a0bfb6-d165-448c-8524-6111d372a6e1"
      },
      "source": [
        "res.summary()"
      ],
      "execution_count": 88,
      "outputs": [
        {
          "output_type": "execute_result",
          "data": {
            "text/html": [
              "<table class=\"simpletable\">\n",
              "<caption>OLS Regression Results</caption>\n",
              "<tr>\n",
              "  <th>Dep. Variable:</th>            <td>y</td>        <th>  R-squared (uncentered):</th>      <td>   0.959</td>\n",
              "</tr>\n",
              "<tr>\n",
              "  <th>Model:</th>                   <td>OLS</td>       <th>  Adj. R-squared (uncentered):</th> <td>   0.958</td>\n",
              "</tr>\n",
              "<tr>\n",
              "  <th>Method:</th>             <td>Least Squares</td>  <th>  F-statistic:       </th>          <td>   891.3</td>\n",
              "</tr>\n",
              "<tr>\n",
              "  <th>Date:</th>             <td>Sun, 08 Sep 2019</td> <th>  Prob (F-statistic):</th>           <td>  0.00</td> \n",
              "</tr>\n",
              "<tr>\n",
              "  <th>Time:</th>                 <td>13:26:17</td>     <th>  Log-Likelihood:    </th>          <td> -1523.8</td>\n",
              "</tr>\n",
              "<tr>\n",
              "  <th>No. Observations:</th>      <td>   506</td>      <th>  AIC:               </th>          <td>   3074.</td>\n",
              "</tr>\n",
              "<tr>\n",
              "  <th>Df Residuals:</th>          <td>   493</td>      <th>  BIC:               </th>          <td>   3128.</td>\n",
              "</tr>\n",
              "<tr>\n",
              "  <th>Df Model:</th>              <td>    13</td>      <th>                     </th>              <td> </td>   \n",
              "</tr>\n",
              "<tr>\n",
              "  <th>Covariance Type:</th>      <td>nonrobust</td>    <th>                     </th>              <td> </td>   \n",
              "</tr>\n",
              "</table>\n",
              "<table class=\"simpletable\">\n",
              "<tr>\n",
              "   <td></td>      <th>coef</th>     <th>std err</th>      <th>t</th>      <th>P>|t|</th>  <th>[0.025</th>    <th>0.975]</th>  \n",
              "</tr>\n",
              "<tr>\n",
              "  <th>x1</th>  <td>   -0.0929</td> <td>    0.034</td> <td>   -2.699</td> <td> 0.007</td> <td>   -0.161</td> <td>   -0.025</td>\n",
              "</tr>\n",
              "<tr>\n",
              "  <th>x2</th>  <td>    0.0487</td> <td>    0.014</td> <td>    3.382</td> <td> 0.001</td> <td>    0.020</td> <td>    0.077</td>\n",
              "</tr>\n",
              "<tr>\n",
              "  <th>x3</th>  <td>   -0.0041</td> <td>    0.064</td> <td>   -0.063</td> <td> 0.950</td> <td>   -0.131</td> <td>    0.123</td>\n",
              "</tr>\n",
              "<tr>\n",
              "  <th>x4</th>  <td>    2.8540</td> <td>    0.904</td> <td>    3.157</td> <td> 0.002</td> <td>    1.078</td> <td>    4.630</td>\n",
              "</tr>\n",
              "<tr>\n",
              "  <th>x5</th>  <td>   -2.8684</td> <td>    3.359</td> <td>   -0.854</td> <td> 0.394</td> <td>   -9.468</td> <td>    3.731</td>\n",
              "</tr>\n",
              "<tr>\n",
              "  <th>x6</th>  <td>    5.9281</td> <td>    0.309</td> <td>   19.178</td> <td> 0.000</td> <td>    5.321</td> <td>    6.535</td>\n",
              "</tr>\n",
              "<tr>\n",
              "  <th>x7</th>  <td>   -0.0073</td> <td>    0.014</td> <td>   -0.526</td> <td> 0.599</td> <td>   -0.034</td> <td>    0.020</td>\n",
              "</tr>\n",
              "<tr>\n",
              "  <th>x8</th>  <td>   -0.9685</td> <td>    0.196</td> <td>   -4.951</td> <td> 0.000</td> <td>   -1.353</td> <td>   -0.584</td>\n",
              "</tr>\n",
              "<tr>\n",
              "  <th>x9</th>  <td>    0.1712</td> <td>    0.067</td> <td>    2.564</td> <td> 0.011</td> <td>    0.040</td> <td>    0.302</td>\n",
              "</tr>\n",
              "<tr>\n",
              "  <th>x10</th> <td>   -0.0094</td> <td>    0.004</td> <td>   -2.395</td> <td> 0.017</td> <td>   -0.017</td> <td>   -0.002</td>\n",
              "</tr>\n",
              "<tr>\n",
              "  <th>x11</th> <td>   -0.3922</td> <td>    0.110</td> <td>   -3.570</td> <td> 0.000</td> <td>   -0.608</td> <td>   -0.176</td>\n",
              "</tr>\n",
              "<tr>\n",
              "  <th>x12</th> <td>    0.0149</td> <td>    0.003</td> <td>    5.528</td> <td> 0.000</td> <td>    0.010</td> <td>    0.020</td>\n",
              "</tr>\n",
              "<tr>\n",
              "  <th>x13</th> <td>   -0.4163</td> <td>    0.051</td> <td>   -8.197</td> <td> 0.000</td> <td>   -0.516</td> <td>   -0.317</td>\n",
              "</tr>\n",
              "</table>\n",
              "<table class=\"simpletable\">\n",
              "<tr>\n",
              "  <th>Omnibus:</th>       <td>204.082</td> <th>  Durbin-Watson:     </th> <td>   0.999</td> \n",
              "</tr>\n",
              "<tr>\n",
              "  <th>Prob(Omnibus):</th> <td> 0.000</td>  <th>  Jarque-Bera (JB):  </th> <td>1374.225</td> \n",
              "</tr>\n",
              "<tr>\n",
              "  <th>Skew:</th>          <td> 1.609</td>  <th>  Prob(JB):          </th> <td>3.90e-299</td>\n",
              "</tr>\n",
              "<tr>\n",
              "  <th>Kurtosis:</th>      <td>10.404</td>  <th>  Cond. No.          </th> <td>8.50e+03</td> \n",
              "</tr>\n",
              "</table><br/><br/>Warnings:<br/>[1] Standard Errors assume that the covariance matrix of the errors is correctly specified.<br/>[2] The condition number is large, 8.5e+03. This might indicate that there are<br/>strong multicollinearity or other numerical problems."
            ],
            "text/plain": [
              "<class 'statsmodels.iolib.summary.Summary'>\n",
              "\"\"\"\n",
              "                                 OLS Regression Results                                \n",
              "=======================================================================================\n",
              "Dep. Variable:                      y   R-squared (uncentered):                   0.959\n",
              "Model:                            OLS   Adj. R-squared (uncentered):              0.958\n",
              "Method:                 Least Squares   F-statistic:                              891.3\n",
              "Date:                Sun, 08 Sep 2019   Prob (F-statistic):                        0.00\n",
              "Time:                        13:26:17   Log-Likelihood:                         -1523.8\n",
              "No. Observations:                 506   AIC:                                      3074.\n",
              "Df Residuals:                     493   BIC:                                      3128.\n",
              "Df Model:                          13                                                  \n",
              "Covariance Type:            nonrobust                                                  \n",
              "==============================================================================\n",
              "                 coef    std err          t      P>|t|      [0.025      0.975]\n",
              "------------------------------------------------------------------------------\n",
              "x1            -0.0929      0.034     -2.699      0.007      -0.161      -0.025\n",
              "x2             0.0487      0.014      3.382      0.001       0.020       0.077\n",
              "x3            -0.0041      0.064     -0.063      0.950      -0.131       0.123\n",
              "x4             2.8540      0.904      3.157      0.002       1.078       4.630\n",
              "x5            -2.8684      3.359     -0.854      0.394      -9.468       3.731\n",
              "x6             5.9281      0.309     19.178      0.000       5.321       6.535\n",
              "x7            -0.0073      0.014     -0.526      0.599      -0.034       0.020\n",
              "x8            -0.9685      0.196     -4.951      0.000      -1.353      -0.584\n",
              "x9             0.1712      0.067      2.564      0.011       0.040       0.302\n",
              "x10           -0.0094      0.004     -2.395      0.017      -0.017      -0.002\n",
              "x11           -0.3922      0.110     -3.570      0.000      -0.608      -0.176\n",
              "x12            0.0149      0.003      5.528      0.000       0.010       0.020\n",
              "x13           -0.4163      0.051     -8.197      0.000      -0.516      -0.317\n",
              "==============================================================================\n",
              "Omnibus:                      204.082   Durbin-Watson:                   0.999\n",
              "Prob(Omnibus):                  0.000   Jarque-Bera (JB):             1374.225\n",
              "Skew:                           1.609   Prob(JB):                    3.90e-299\n",
              "Kurtosis:                      10.404   Cond. No.                     8.50e+03\n",
              "==============================================================================\n",
              "\n",
              "Warnings:\n",
              "[1] Standard Errors assume that the covariance matrix of the errors is correctly specified.\n",
              "[2] The condition number is large, 8.5e+03. This might indicate that there are\n",
              "strong multicollinearity or other numerical problems.\n",
              "\"\"\""
            ]
          },
          "metadata": {
            "tags": []
          },
          "execution_count": 88
        }
      ]
    },
    {
      "cell_type": "code",
      "metadata": {
        "id": "bJVdYzDnM9I4",
        "colab_type": "code",
        "colab": {}
      },
      "source": [
        "sm.OLS?"
      ],
      "execution_count": 0,
      "outputs": []
    },
    {
      "cell_type": "code",
      "metadata": {
        "id": "42pSezR-N3TH",
        "colab_type": "code",
        "colab": {}
      },
      "source": [
        ""
      ],
      "execution_count": 0,
      "outputs": []
    }
  ]
}