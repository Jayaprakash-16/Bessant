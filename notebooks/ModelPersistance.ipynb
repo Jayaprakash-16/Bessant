{
  "nbformat": 4,
  "nbformat_minor": 0,
  "metadata": {
    "colab": {
      "name": "ModelPersistance.ipynb",
      "provenance": [],
      "include_colab_link": true
    },
    "kernelspec": {
      "name": "python3",
      "display_name": "Python 3"
    }
  },
  "cells": [
    {
      "cell_type": "markdown",
      "metadata": {
        "id": "view-in-github",
        "colab_type": "text"
      },
      "source": [
        "<a href=\"https://colab.research.google.com/github/HarshaVardhanBabu/TutorialMaterial/blob/master/ModelPersistance.ipynb\" target=\"_parent\"><img src=\"https://colab.research.google.com/assets/colab-badge.svg\" alt=\"Open In Colab\"/></a>"
      ]
    },
    {
      "cell_type": "code",
      "metadata": {
        "id": "mdRE28tzYivM",
        "colab_type": "code",
        "colab": {}
      },
      "source": [
        "import numpy as np\n",
        "import pandas as pd\n",
        "\n",
        "from sklearn.datasets import load_boston\n",
        "from sklearn.model_selection import train_test_split\n",
        "from sklearn.linear_model import SGDRegressor\n",
        "from sklearn.model_selection import GridSearchCV\n",
        "\n",
        "from matplotlib import pyplot as plt\n",
        "import seaborn as sns"
      ],
      "execution_count": 0,
      "outputs": []
    },
    {
      "cell_type": "markdown",
      "metadata": {
        "id": "rB3JpHnZczYg",
        "colab_type": "text"
      },
      "source": [
        "# Model Training"
      ]
    },
    {
      "cell_type": "code",
      "metadata": {
        "id": "6zObM6ONY7N_",
        "colab_type": "code",
        "colab": {}
      },
      "source": [
        "boston_data = load_boston()\n",
        "X = boston_data.data\n",
        "y = boston_data.target"
      ],
      "execution_count": 0,
      "outputs": []
    },
    {
      "cell_type": "code",
      "metadata": {
        "id": "zbNfO8uTZEsd",
        "colab_type": "code",
        "colab": {}
      },
      "source": [
        "model = SGDRegressor()"
      ],
      "execution_count": 0,
      "outputs": []
    },
    {
      "cell_type": "code",
      "metadata": {
        "id": "JQUJcz-8ZNgc",
        "colab_type": "code",
        "colab": {
          "base_uri": "https://localhost:8080/",
          "height": 119
        },
        "outputId": "4e52872b-68b5-472a-bd62-ed7ee58cf859"
      },
      "source": [
        "model"
      ],
      "execution_count": 4,
      "outputs": [
        {
          "output_type": "execute_result",
          "data": {
            "text/plain": [
              "SGDRegressor(alpha=0.0001, average=False, early_stopping=False, epsilon=0.1,\n",
              "             eta0=0.01, fit_intercept=True, l1_ratio=0.15,\n",
              "             learning_rate='invscaling', loss='squared_loss', max_iter=1000,\n",
              "             n_iter_no_change=5, penalty='l2', power_t=0.25, random_state=None,\n",
              "             shuffle=True, tol=0.001, validation_fraction=0.1, verbose=0,\n",
              "             warm_start=False)"
            ]
          },
          "metadata": {
            "tags": []
          },
          "execution_count": 4
        }
      ]
    },
    {
      "cell_type": "code",
      "metadata": {
        "id": "r2ishngKZOnu",
        "colab_type": "code",
        "colab": {}
      },
      "source": [
        "param_grid = {'alpha': [1e-3,1e-2,1e-1,1e0]}"
      ],
      "execution_count": 0,
      "outputs": []
    },
    {
      "cell_type": "code",
      "metadata": {
        "id": "a9rMwoZMZVvh",
        "colab_type": "code",
        "colab": {}
      },
      "source": [
        "grid_search_cv = GridSearchCV(model, param_grid, n_jobs = -1, cv = 3, return_train_score=True)"
      ],
      "execution_count": 0,
      "outputs": []
    },
    {
      "cell_type": "code",
      "metadata": {
        "id": "24dUUJYOZrTf",
        "colab_type": "code",
        "colab": {
          "base_uri": "https://localhost:8080/",
          "height": 326
        },
        "outputId": "e54da85e-8063-473a-a956-2d10877029a5"
      },
      "source": [
        "grid_search_cv.fit(X,y) "
      ],
      "execution_count": 7,
      "outputs": [
        {
          "output_type": "stream",
          "text": [
            "/usr/local/lib/python3.6/dist-packages/sklearn/model_selection/_search.py:814: DeprecationWarning: The default of the `iid` parameter will change from True to False in version 0.22 and will be removed in 0.24. This will change numeric results when test-set sizes are unequal.\n",
            "  DeprecationWarning)\n"
          ],
          "name": "stderr"
        },
        {
          "output_type": "execute_result",
          "data": {
            "text/plain": [
              "GridSearchCV(cv=3, error_score='raise-deprecating',\n",
              "             estimator=SGDRegressor(alpha=0.0001, average=False,\n",
              "                                    early_stopping=False, epsilon=0.1,\n",
              "                                    eta0=0.01, fit_intercept=True,\n",
              "                                    l1_ratio=0.15, learning_rate='invscaling',\n",
              "                                    loss='squared_loss', max_iter=1000,\n",
              "                                    n_iter_no_change=5, penalty='l2',\n",
              "                                    power_t=0.25, random_state=None,\n",
              "                                    shuffle=True, tol=0.001,\n",
              "                                    validation_fraction=0.1, verbose=0,\n",
              "                                    warm_start=False),\n",
              "             iid='warn', n_jobs=-1,\n",
              "             param_grid={'alpha': [0.001, 0.01, 0.1, 1.0]},\n",
              "             pre_dispatch='2*n_jobs', refit=True, return_train_score=True,\n",
              "             scoring=None, verbose=0)"
            ]
          },
          "metadata": {
            "tags": []
          },
          "execution_count": 7
        }
      ]
    },
    {
      "cell_type": "code",
      "metadata": {
        "id": "3GqOg6MVZ3Bc",
        "colab_type": "code",
        "colab": {
          "base_uri": "https://localhost:8080/",
          "height": 34
        },
        "outputId": "3815b497-628d-4923-acee-f66203cc5b58"
      },
      "source": [
        "grid_search_cv.best_params_"
      ],
      "execution_count": 8,
      "outputs": [
        {
          "output_type": "execute_result",
          "data": {
            "text/plain": [
              "{'alpha': 0.1}"
            ]
          },
          "metadata": {
            "tags": []
          },
          "execution_count": 8
        }
      ]
    },
    {
      "cell_type": "code",
      "metadata": {
        "id": "ys-o43VhZ8tt",
        "colab_type": "code",
        "colab": {
          "base_uri": "https://localhost:8080/",
          "height": 119
        },
        "outputId": "18e9d643-6a69-4bb0-934b-02bbda5cce89"
      },
      "source": [
        "model.set_params(**grid_search_cv.best_params_)"
      ],
      "execution_count": 9,
      "outputs": [
        {
          "output_type": "execute_result",
          "data": {
            "text/plain": [
              "SGDRegressor(alpha=0.1, average=False, early_stopping=False, epsilon=0.1,\n",
              "             eta0=0.01, fit_intercept=True, l1_ratio=0.15,\n",
              "             learning_rate='invscaling', loss='squared_loss', max_iter=1000,\n",
              "             n_iter_no_change=5, penalty='l2', power_t=0.25, random_state=None,\n",
              "             shuffle=True, tol=0.001, validation_fraction=0.1, verbose=0,\n",
              "             warm_start=False)"
            ]
          },
          "metadata": {
            "tags": []
          },
          "execution_count": 9
        }
      ]
    },
    {
      "cell_type": "code",
      "metadata": {
        "id": "QbtpjgILbupM",
        "colab_type": "code",
        "colab": {
          "base_uri": "https://localhost:8080/",
          "height": 119
        },
        "outputId": "5038f1ce-cdcd-45b5-f21b-9498078086b9"
      },
      "source": [
        "model.fit(X,y)"
      ],
      "execution_count": 10,
      "outputs": [
        {
          "output_type": "execute_result",
          "data": {
            "text/plain": [
              "SGDRegressor(alpha=0.1, average=False, early_stopping=False, epsilon=0.1,\n",
              "             eta0=0.01, fit_intercept=True, l1_ratio=0.15,\n",
              "             learning_rate='invscaling', loss='squared_loss', max_iter=1000,\n",
              "             n_iter_no_change=5, penalty='l2', power_t=0.25, random_state=None,\n",
              "             shuffle=True, tol=0.001, validation_fraction=0.1, verbose=0,\n",
              "             warm_start=False)"
            ]
          },
          "metadata": {
            "tags": []
          },
          "execution_count": 10
        }
      ]
    },
    {
      "cell_type": "code",
      "metadata": {
        "id": "sHK6jK_taLrR",
        "colab_type": "code",
        "colab": {}
      },
      "source": [
        "from joblib import dump, load"
      ],
      "execution_count": 0,
      "outputs": []
    },
    {
      "cell_type": "markdown",
      "metadata": {
        "id": "Gjho9nuickGc",
        "colab_type": "text"
      },
      "source": [
        "# Save the model to the disk\n",
        "\n",
        "### This is file that should be used for deployment"
      ]
    },
    {
      "cell_type": "code",
      "metadata": {
        "id": "6-iiSVe3aZf-",
        "colab_type": "code",
        "colab": {
          "base_uri": "https://localhost:8080/",
          "height": 34
        },
        "outputId": "e6a8bb17-9c47-478f-d865-257e9603308a"
      },
      "source": [
        "dump(model,\"trained_model.gz\")"
      ],
      "execution_count": 12,
      "outputs": [
        {
          "output_type": "execute_result",
          "data": {
            "text/plain": [
              "['trained_model.gz']"
            ]
          },
          "metadata": {
            "tags": []
          },
          "execution_count": 12
        }
      ]
    },
    {
      "cell_type": "markdown",
      "metadata": {
        "id": "VbItMHBIctC7",
        "colab_type": "text"
      },
      "source": [
        "# Load the model from the disk"
      ]
    },
    {
      "cell_type": "code",
      "metadata": {
        "id": "KA926lQXaev9",
        "colab_type": "code",
        "colab": {}
      },
      "source": [
        "clf = load(\"trained_model.gz\")"
      ],
      "execution_count": 0,
      "outputs": []
    },
    {
      "cell_type": "markdown",
      "metadata": {
        "id": "InDZmLvgcW7F",
        "colab_type": "text"
      },
      "source": [
        "# Now use the loaded model to predict on the unseen data"
      ]
    },
    {
      "cell_type": "code",
      "metadata": {
        "id": "G9XSR1lWbpmu",
        "colab_type": "code",
        "colab": {}
      },
      "source": [
        "ypred = clf.predict(X)"
      ],
      "execution_count": 0,
      "outputs": []
    }
  ]
}